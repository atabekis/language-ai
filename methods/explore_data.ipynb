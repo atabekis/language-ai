{
 "cells": [
  {
   "cell_type": "markdown",
   "source": [
    "# Exploring the data\n",
    "## Introverted vs. Extroverted"
   ],
   "metadata": {
    "collapsed": false
   },
   "id": "b6fc0bd88b487ce1"
  },
  {
   "cell_type": "code",
   "execution_count": 1,
   "outputs": [],
   "source": [
    "import spacy\n",
    "import string\n",
    "import numpy as np\n",
    "import pandas as pd\n",
    "from typing import List\n",
    "from collections import Counter\n",
    "from tqdm.notebook import tqdm\n"
   ],
   "metadata": {
    "collapsed": false,
    "ExecuteTime": {
     "end_time": "2023-12-11T16:22:32.185292500Z",
     "start_time": "2023-12-11T16:22:26.962849300Z"
    }
   },
   "id": "8901cc1480b06fbe"
  },
  {
   "cell_type": "markdown",
   "source": [
    "Checking out the structure of the data,\n",
    "* How many words per row (using .split(' '))\n",
    "* How many rows per user"
   ],
   "metadata": {
    "collapsed": false
   },
   "id": "af262aec1547ec3a"
  },
  {
   "cell_type": "code",
   "execution_count": 3,
   "id": "initial_id",
   "metadata": {
    "collapsed": true,
    "ExecuteTime": {
     "end_time": "2023-12-11T16:22:43.994278300Z",
     "start_time": "2023-12-11T16:22:39.428267200Z"
    }
   },
   "outputs": [
    {
     "data": {
      "text/plain": "     author_id                                               post  extrovert\n0  t2_2hrxxs28  I have a question, if you have no doctor, how'...          0\n1  t2_2hrxxs28  butt to have Covid + your cycle. I'm not sure ...          0\n2  t2_2hrxxs28  through different doctors. My situation sucks ...          0\n3   t2_4pxpgwz  i thought it was about the pebbleyeet guy the ...          0\n4   t2_4pxpgwz  …i always end up voting wrong even as crewmate...          0\n5   t2_4pxpgwz  made me feel a lot better. ooh yikes half of t...          0\n6   t2_4pxpgwz  your mouth, you’d have a panic attack whenever...          0\n7   t2_4pxpgwz  i didnt read the top half bc it was cropped of...          0\n8   t2_4pxpgwz  too hot? can’t do much, either strip nude or R...          0\n9   t2_4pxpgwz  otherwise, though, the “needing” masturbation ...          0",
      "text/html": "<div>\n<style scoped>\n    .dataframe tbody tr th:only-of-type {\n        vertical-align: middle;\n    }\n\n    .dataframe tbody tr th {\n        vertical-align: top;\n    }\n\n    .dataframe thead th {\n        text-align: right;\n    }\n</style>\n<table border=\"1\" class=\"dataframe\">\n  <thead>\n    <tr style=\"text-align: right;\">\n      <th></th>\n      <th>author_id</th>\n      <th>post</th>\n      <th>extrovert</th>\n    </tr>\n  </thead>\n  <tbody>\n    <tr>\n      <th>0</th>\n      <td>t2_2hrxxs28</td>\n      <td>I have a question, if you have no doctor, how'...</td>\n      <td>0</td>\n    </tr>\n    <tr>\n      <th>1</th>\n      <td>t2_2hrxxs28</td>\n      <td>butt to have Covid + your cycle. I'm not sure ...</td>\n      <td>0</td>\n    </tr>\n    <tr>\n      <th>2</th>\n      <td>t2_2hrxxs28</td>\n      <td>through different doctors. My situation sucks ...</td>\n      <td>0</td>\n    </tr>\n    <tr>\n      <th>3</th>\n      <td>t2_4pxpgwz</td>\n      <td>i thought it was about the pebbleyeet guy the ...</td>\n      <td>0</td>\n    </tr>\n    <tr>\n      <th>4</th>\n      <td>t2_4pxpgwz</td>\n      <td>…i always end up voting wrong even as crewmate...</td>\n      <td>0</td>\n    </tr>\n    <tr>\n      <th>5</th>\n      <td>t2_4pxpgwz</td>\n      <td>made me feel a lot better. ooh yikes half of t...</td>\n      <td>0</td>\n    </tr>\n    <tr>\n      <th>6</th>\n      <td>t2_4pxpgwz</td>\n      <td>your mouth, you’d have a panic attack whenever...</td>\n      <td>0</td>\n    </tr>\n    <tr>\n      <th>7</th>\n      <td>t2_4pxpgwz</td>\n      <td>i didnt read the top half bc it was cropped of...</td>\n      <td>0</td>\n    </tr>\n    <tr>\n      <th>8</th>\n      <td>t2_4pxpgwz</td>\n      <td>too hot? can’t do much, either strip nude or R...</td>\n      <td>0</td>\n    </tr>\n    <tr>\n      <th>9</th>\n      <td>t2_4pxpgwz</td>\n      <td>otherwise, though, the “needing” masturbation ...</td>\n      <td>0</td>\n    </tr>\n  </tbody>\n</table>\n</div>"
     },
     "execution_count": 3,
     "metadata": {},
     "output_type": "execute_result"
    }
   ],
   "source": [
    "df = pd.read_csv('../data/extrovert_introvert.csv', names=['author_id', 'post', 'extrovert'], header=0)\n",
    "df.head(10)"
   ]
  },
  {
   "cell_type": "code",
   "execution_count": 7,
   "outputs": [],
   "source": [
    "# Save the dataframe with the better column names\n",
    "df.to_csv('../data/changed_columns.csv', index=False)"
   ],
   "metadata": {
    "collapsed": false,
    "ExecuteTime": {
     "end_time": "2023-12-11T17:03:14.740083900Z",
     "start_time": "2023-12-11T17:03:06.984540900Z"
    }
   },
   "id": "25702799d7d70b20"
  },
  {
   "cell_type": "code",
   "execution_count": 4,
   "outputs": [
    {
     "name": "stdout",
     "output_type": "stream",
     "text": [
      "<class 'pandas.core.frame.DataFrame'>\n",
      "RangeIndex: 40452 entries, 0 to 40451\n",
      "Data columns (total 3 columns):\n",
      " #   Column     Non-Null Count  Dtype \n",
      "---  ------     --------------  ----- \n",
      " 0   author_id  40452 non-null  object\n",
      " 1   post       40452 non-null  object\n",
      " 2   extrovert  40452 non-null  int64 \n",
      "dtypes: int64(1), object(2)\n",
      "memory usage: 948.2+ KB\n"
     ]
    }
   ],
   "source": [
    "df.info()"
   ],
   "metadata": {
    "collapsed": false,
    "ExecuteTime": {
     "end_time": "2023-12-11T16:22:46.143220700Z",
     "start_time": "2023-12-11T16:22:46.092984200Z"
    }
   },
   "id": "930a4be704a17ad"
  },
  {
   "cell_type": "markdown",
   "source": [
    "Number of authors: 1992\n",
    "and every row has 1500 words"
   ],
   "metadata": {
    "collapsed": false
   },
   "id": "ee2fe14a09c7aab2"
  },
  {
   "cell_type": "code",
   "execution_count": 6,
   "outputs": [
    {
     "data": {
      "text/plain": "extrovert\n0    31370\n1     9082\nName: count, dtype: int64"
     },
     "execution_count": 6,
     "metadata": {},
     "output_type": "execute_result"
    }
   ],
   "source": [
    "# Checking for imbalanced dataset\n",
    "df.extrovert.value_counts()"
   ],
   "metadata": {
    "collapsed": false,
    "ExecuteTime": {
     "end_time": "2023-12-11T16:22:52.551721200Z",
     "start_time": "2023-12-11T16:22:52.542961500Z"
    }
   },
   "id": "a4d99eb41e4b9c5c"
  },
  {
   "cell_type": "code",
   "execution_count": 29,
   "outputs": [
    {
     "data": {
      "text/plain": "{12715, 20059, 29577, 35532, 37062}"
     },
     "execution_count": 29,
     "metadata": {},
     "output_type": "execute_result"
    }
   ],
   "source": [
    "testing = df[df['post'].str.contains('https://', case=False, na=False)]\n",
    "set(testing.index)"
   ],
   "metadata": {
    "collapsed": false,
    "ExecuteTime": {
     "end_time": "2023-12-11T20:33:12.537300100Z",
     "start_time": "2023-12-11T20:33:08.708139600Z"
    }
   },
   "id": "37f8b681be7b8add"
  }
 ],
 "metadata": {
  "kernelspec": {
   "display_name": "Python 3",
   "language": "python",
   "name": "python3"
  },
  "language_info": {
   "codemirror_mode": {
    "name": "ipython",
    "version": 2
   },
   "file_extension": ".py",
   "mimetype": "text/x-python",
   "name": "python",
   "nbconvert_exporter": "python",
   "pygments_lexer": "ipython2",
   "version": "2.7.6"
  }
 },
 "nbformat": 4,
 "nbformat_minor": 5
}
