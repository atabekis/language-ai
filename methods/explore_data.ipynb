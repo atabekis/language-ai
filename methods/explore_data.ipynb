{
 "cells": [
  {
   "cell_type": "markdown",
   "source": [
    "# Exploring the data\n",
    "## Introverted vs. Extroverted"
   ],
   "metadata": {
    "collapsed": false
   },
   "id": "b6fc0bd88b487ce1"
  },
  {
   "cell_type": "code",
   "execution_count": 2,
   "outputs": [],
   "source": [
    "import spacy\n",
    "import string\n",
    "import numpy as np\n",
    "import pandas as pd\n",
    "from typing import List\n",
    "from collections import Counter\n",
    "from tqdm.notebook import tqdm\n"
   ],
   "metadata": {
    "collapsed": false,
    "ExecuteTime": {
     "end_time": "2023-12-10T17:49:37.463454Z",
     "start_time": "2023-12-10T17:49:32.388116700Z"
    }
   },
   "id": "8901cc1480b06fbe"
  },
  {
   "cell_type": "markdown",
   "source": [
    "Checking out the structure of the data,\n",
    "* How many words per row (using .split(' '))\n",
    "* How many rows per user"
   ],
   "metadata": {
    "collapsed": false
   },
   "id": "af262aec1547ec3a"
  },
  {
   "cell_type": "code",
   "execution_count": 3,
   "id": "initial_id",
   "metadata": {
    "collapsed": true,
    "ExecuteTime": {
     "end_time": "2023-12-10T17:49:43.100551400Z",
     "start_time": "2023-12-10T17:49:37.468242100Z"
    }
   },
   "outputs": [
    {
     "data": {
      "text/plain": "     author_id                                               post  extrovert\n0  t2_2hrxxs28  I have a question, if you have no doctor, how'...          0\n1  t2_2hrxxs28  butt to have Covid + your cycle. I'm not sure ...          0\n2  t2_2hrxxs28  through different doctors. My situation sucks ...          0\n3   t2_4pxpgwz  i thought it was about the pebbleyeet guy the ...          0\n4   t2_4pxpgwz  …i always end up voting wrong even as crewmate...          0\n5   t2_4pxpgwz  made me feel a lot better. ooh yikes half of t...          0\n6   t2_4pxpgwz  your mouth, you’d have a panic attack whenever...          0\n7   t2_4pxpgwz  i didnt read the top half bc it was cropped of...          0\n8   t2_4pxpgwz  too hot? can’t do much, either strip nude or R...          0\n9   t2_4pxpgwz  otherwise, though, the “needing” masturbation ...          0",
      "text/html": "<div>\n<style scoped>\n    .dataframe tbody tr th:only-of-type {\n        vertical-align: middle;\n    }\n\n    .dataframe tbody tr th {\n        vertical-align: top;\n    }\n\n    .dataframe thead th {\n        text-align: right;\n    }\n</style>\n<table border=\"1\" class=\"dataframe\">\n  <thead>\n    <tr style=\"text-align: right;\">\n      <th></th>\n      <th>author_id</th>\n      <th>post</th>\n      <th>extrovert</th>\n    </tr>\n  </thead>\n  <tbody>\n    <tr>\n      <th>0</th>\n      <td>t2_2hrxxs28</td>\n      <td>I have a question, if you have no doctor, how'...</td>\n      <td>0</td>\n    </tr>\n    <tr>\n      <th>1</th>\n      <td>t2_2hrxxs28</td>\n      <td>butt to have Covid + your cycle. I'm not sure ...</td>\n      <td>0</td>\n    </tr>\n    <tr>\n      <th>2</th>\n      <td>t2_2hrxxs28</td>\n      <td>through different doctors. My situation sucks ...</td>\n      <td>0</td>\n    </tr>\n    <tr>\n      <th>3</th>\n      <td>t2_4pxpgwz</td>\n      <td>i thought it was about the pebbleyeet guy the ...</td>\n      <td>0</td>\n    </tr>\n    <tr>\n      <th>4</th>\n      <td>t2_4pxpgwz</td>\n      <td>…i always end up voting wrong even as crewmate...</td>\n      <td>0</td>\n    </tr>\n    <tr>\n      <th>5</th>\n      <td>t2_4pxpgwz</td>\n      <td>made me feel a lot better. ooh yikes half of t...</td>\n      <td>0</td>\n    </tr>\n    <tr>\n      <th>6</th>\n      <td>t2_4pxpgwz</td>\n      <td>your mouth, you’d have a panic attack whenever...</td>\n      <td>0</td>\n    </tr>\n    <tr>\n      <th>7</th>\n      <td>t2_4pxpgwz</td>\n      <td>i didnt read the top half bc it was cropped of...</td>\n      <td>0</td>\n    </tr>\n    <tr>\n      <th>8</th>\n      <td>t2_4pxpgwz</td>\n      <td>too hot? can’t do much, either strip nude or R...</td>\n      <td>0</td>\n    </tr>\n    <tr>\n      <th>9</th>\n      <td>t2_4pxpgwz</td>\n      <td>otherwise, though, the “needing” masturbation ...</td>\n      <td>0</td>\n    </tr>\n  </tbody>\n</table>\n</div>"
     },
     "execution_count": 3,
     "metadata": {},
     "output_type": "execute_result"
    }
   ],
   "source": [
    "df = pd.read_csv('data/extrovert_introvert.csv', names=['author_id', 'post', 'extrovert'], header=0)\n",
    "df.head(10)"
   ]
  },
  {
   "cell_type": "code",
   "execution_count": 4,
   "outputs": [
    {
     "name": "stdout",
     "output_type": "stream",
     "text": [
      "<class 'pandas.core.frame.DataFrame'>\n",
      "RangeIndex: 40452 entries, 0 to 40451\n",
      "Data columns (total 3 columns):\n",
      " #   Column     Non-Null Count  Dtype \n",
      "---  ------     --------------  ----- \n",
      " 0   author_id  40452 non-null  object\n",
      " 1   post       40452 non-null  object\n",
      " 2   extrovert  40452 non-null  int64 \n",
      "dtypes: int64(1), object(2)\n",
      "memory usage: 948.2+ KB\n"
     ]
    }
   ],
   "source": [
    "df.info()"
   ],
   "metadata": {
    "collapsed": false,
    "ExecuteTime": {
     "end_time": "2023-12-10T17:49:43.133225800Z",
     "start_time": "2023-12-10T17:49:43.101719700Z"
    }
   },
   "id": "930a4be704a17ad"
  },
  {
   "cell_type": "markdown",
   "source": [
    "Number of authors: 1992\n",
    "and every row has 1500 words"
   ],
   "metadata": {
    "collapsed": false
   },
   "id": "ee2fe14a09c7aab2"
  },
  {
   "cell_type": "code",
   "execution_count": 5,
   "outputs": [
    {
     "data": {
      "text/plain": "author_id\nt2_5sg9b       837\nt2_8xjvf       727\nt2_1um5rn9f    578\nt2_4kd61w6q    538\nt2_kiel3       403\n              ... \nt2_2i2j1xjy      1\nt2_ei76b         1\nt2_aiuy2         1\nt2_3sfaleff      1\nt2_s8r8u50w      1\nName: count, Length: 1992, dtype: int64"
     },
     "execution_count": 5,
     "metadata": {},
     "output_type": "execute_result"
    }
   ],
   "source": [
    "df.author_id.value_counts()\n",
    "# 1992 users "
   ],
   "metadata": {
    "collapsed": false,
    "ExecuteTime": {
     "end_time": "2023-12-10T17:49:43.165996800Z",
     "start_time": "2023-12-10T17:49:43.127005700Z"
    }
   },
   "id": "bd2fc6ff89fd3450"
  },
  {
   "cell_type": "code",
   "execution_count": 6,
   "outputs": [
    {
     "name": "stdout",
     "output_type": "stream",
     "text": [
      "a revealed shoulder can make us think of that. But that's just my thought. I can hear this image First of all, I'm a demi, just like you seem to be. So calling me a yellow potato in this context is dismissive at best and hurtful at worst. But I digress. I can see that you're frustrated because of your current situation. Why are you frustrated? Because other people have relationships and sex and you don't? Or is it because you can't seem to click with anyone? The way I see it and how I felt reading your comment (as well as the subsequent one where you tell a person to go rot in hell (yes, this is Reddit and we see you)), you are angry, to the point it seems to cloud your judgment of the situation. You attacked me, even if it wasn't voluntary. You attacked someone who downvoted your comment. Bro, no one gives a flying fuck about up- and downvotes. And if you are this way on the daily, i.e. angry and frustrated, then you will never get anyone interested in you. I also was angry at the world because I was always the best friend but never the lover. At some point, if you're angry for so long, it is not because you were wronged. It is because you WANT to be angry. Keep in mind that if you keep being angry and bitter, you'll grow into that persona and you might never escape it afterwards. But to be on the attack like you seem to be here, that's just not ok and I will not deal with this. Let that be clear as crystal. Now, as I was saying, in life, you can always (and actually should) adapt to what is around you. That's what I meant by becoming green and making other people green. But for this, you need to start being more open to the possibility that change can happen, even if it is minimal. I don't mean to interject but you were the one who brought the food analogy to the table, not u/e-lucid-8. Just saying. Your bf is a pleb /s But for real, why didn't you show him our supreme commander Kevin yet? Are you watching your upvotes carefully? Well, look again. Watchdogs Legion. It's an empty, unfinished, and buggy game. After WD2, they should have raised the bar. Instead, they dug a trench and limbo'd under it... Yes siree, that's me to a T For me it was the curiosity for the next day. Sometimes I don't even care to know and would want everything, the whole pain, to just stop. And the problem is that it comes and goes, so you could be doing fine and next thing you know, you want to jump in front of a train... Lost Judgment. Oh boy what a game! Neoseeker was awesome with their walkthroughs Where to even begin, here... *too young to have a back* What did they think you are? Slug-man? Et après il faudra encore étudier le nouveau code depuis zéro! Mais merde, quoi! (Je suis un juriste) Oh, I understood their tactic alright. Fuckers don't give a shit about other people's pain and push them over the brink. That's narcs for ya... *Anything* can be used for evil purposes. You just have to let a human give it a think. Also, AirTags are attached to an Apple ID for them to track, so that's such a dumb idea to use them for stalking. Also also, we only hear about AirTags, sure. But that's because people can find them. You don't hear much about other trackers. Can you guess why? Because those don't notify the whole planet if they are, you know, stalking. Oh yeah, that sounds about right. ٩(◕‿◕｡)۶ The basics I can offer you without knowing where you live, is to call a suicide hotline if you feel you are in danger or want to do something irreversible. Yeah... sadly, I think you are right... it sucks though... The infinite post lol [deleted] Yes. Not only do you have to worry about being thought of as a freak of nature and/or a prude, but you also have to worry about the possibility that your sex drive might not kick in, regardless of how nice the person is and whatever they might do for the relationship, since it's our bodies that dictate everything and even we don't have control over that \"switch\". And don't even get me started on people who'll get the bond with you just to have a one night stand and then ghost you the next day... Sorry to interject, ladies, but is it really that easy to get a date on tinder? Because for the life of me, as a normal demi dude, I can't get a single match, let alone a freakin' date with anybody there. What are your opinions and thoughts on this? We extroverts have it just as hard, trust me. I'm an ENFP and boy freakin' howdy, is it hard to find someone in the first place, let alone have sex with them... Thank you for your input. Thanks for the input. I'm told that I'm intimidating but not because I look like an evil villain or whatever. I apparently intimidate people with my knowledge and wisdom. I'm 27... DO \"PLEASE KILL ME\" EYES COUNT? We kept in touch but it was a singular message every few months or so. And those were mainly to just see how the other was going, in a purely friendship way. Usually it was her who sent the message, given that I had such a shit storm around me over the past few years that I didn't send messages first (but always responded asap when someone sent me a message). I need to clarify: - she's still single for now. She's only been talking to another guy and couldn't understand why she can't have sexual desires for him. - she initiated the sex-talk herself. She was the one who approached me with this topic and I only talked to her trying to answer her questions regarding the subject. I even asked her if she didn't feel weird talking about such stuff to a friend she only knew through college and she told me that she has no taboos regarding that, which was weird to me but didn't give it much thought. That's what I did. The moment she told me that she's talking to some guy she has known for 8 years (way longe than I know her), I felt this invisible hand push me to tell her. She was surprised at first, as if not expecting that confession in the first place. She obviously said that she won't pursue anything with me as long as she hasn't resolved the situation with the other guy. She hasn't ghosted me and she was even open to going out with me but without a relationship objective. And it's nice but it stings at the same time because I'm not the first choice, just barely a plan B... I think my post was so rushed that I blundered some details about the situation... - she's still single. She's talking to another guy but she hasn't made any choice yet. - she was the one who initiated the talk about her attraction patterns and the topic of sexuality came up because she had that as her main problem. This actually makes me think she might also be a demi but that needs to be determined. - my switch flipped because we started talking again and she has asked me for help before and now she's been opening up about herself, which for me is a massive turn on. Not in a sexual desire way but in the romantic interest way. My only conclusion from this situation (that seems to repeat itself ad nauseum) is that I'll always be too late with relationships and that the ones I want are always going to be taken anyway, making the dating result in me having to assume that the person already has someone else in their sights and I'm just an afterthought. Because it is a repetitive situation that has happened way too many times and it kills my hope for any relationship to begin with. I've been in two serious relationships: the first one ended with her cheating on me, the other crashed because she wasn't mature enough for a relationship and I couldn't get over her constant door slams whenever something was wrong on her side of things. So you can see why I became hopeless for any relationship whatsoever. And what hurst the most in all this, is that after talking with the girl from the post, she revealed to me what her \"type\" was and I kid you not, I checked practically all the boxes. I'm so mad at life because I'm told repeatedly that I would be the exact match for the person based\n"
     ]
    }
   ],
   "source": [
    "testing = df.post.str.contains(r'\\[removed\\]|\\[deleted\\]')\n",
    "for index, row in df[testing].iterrows():\n",
    "    print(row.post + '\\n')\n",
    "    break"
   ],
   "metadata": {
    "collapsed": false,
    "ExecuteTime": {
     "end_time": "2023-12-10T17:49:43.412218Z",
     "start_time": "2023-12-10T17:49:43.137342100Z"
    }
   },
   "id": "d163d7c0b361ae8b"
  },
  {
   "cell_type": "markdown",
   "source": [
    "### Language detection\n",
    "We want to see how many rows has non-English words/sentences. \n",
    "For cases with multiple languages, we "
   ],
   "metadata": {
    "collapsed": false
   },
   "id": "2cd95a474c46efc8"
  },
  {
   "cell_type": "code",
   "execution_count": 7,
   "outputs": [
    {
     "name": "stdout",
     "output_type": "stream",
     "text": [
      "Spacy model loaded successfully! --xx_ent_wiki_sm\n"
     ]
    }
   ],
   "source": [
    "spacy_model= 'xx_ent_wiki_sm'\n",
    "try:\n",
    "    spacy.load(spacy_model)\n",
    "    print(f'Spacy model loaded successfully! --{spacy_model}')\n",
    "\n",
    "except OSError:\n",
    "    print(f'Spacy model ({spacy_model}) not found, downloading...')\n",
    "    spacy.cli.download(spacy_model)\n",
    "\n",
    "nlp = spacy.load(spacy_model)"
   ],
   "metadata": {
    "collapsed": false,
    "ExecuteTime": {
     "end_time": "2023-12-10T17:49:47.612041900Z",
     "start_time": "2023-12-10T17:49:43.404866400Z"
    }
   },
   "id": "254bc2afedea4d9f"
  },
  {
   "cell_type": "code",
   "execution_count": 8,
   "outputs": [],
   "source": [
    "nlp.add_pipe('sentencizer')\n",
    "def is_english(text: str):\n",
    "    try:\n",
    "        doc = nlp(text)\n",
    "        return doc._.language['language'] != 'en'\n",
    "    except:\n",
    "        return False\n",
    "def filter_english(text):\n",
    "    sentences = [str(sent) for sent in nlp(text).sents]\n",
    "    eng_sentences = [sent for sent in sentences if is_english(sent)]\n",
    "    \n",
    "    return ' '.join(eng_sentences)"
   ],
   "metadata": {
    "collapsed": false,
    "ExecuteTime": {
     "end_time": "2023-12-10T17:49:47.631943300Z",
     "start_time": "2023-12-10T17:49:47.625419Z"
    }
   },
   "id": "95f85c0f3505120a"
  },
  {
   "cell_type": "code",
   "execution_count": 9,
   "outputs": [
    {
     "data": {
      "text/plain": "  0%|          | 0/500 [00:00<?, ?it/s]",
      "application/vnd.jupyter.widget-view+json": {
       "version_major": 2,
       "version_minor": 0,
       "model_id": "c1e18d0cb7064c13a5bc6f1eed0d0a4b"
      }
     },
     "metadata": {},
     "output_type": "display_data"
    },
    {
     "name": "stdout",
     "output_type": "stream",
     "text": [
      "[]\n"
     ]
    }
   ],
   "source": [
    "nrows = 500\n",
    "non_english = []\n",
    "with tqdm(total=nrows) as pbar:\n",
    "    for index, row in df.iterrows():\n",
    "        if index == nrows:\n",
    "            break\n",
    "            \n",
    "        filtered = filter_english(row.post)\n",
    "        if filtered:\n",
    "            non_english.append(filtered)\n",
    "        pbar.update()\n",
    "       \n",
    "print(non_english) "
   ],
   "metadata": {
    "collapsed": false,
    "ExecuteTime": {
     "end_time": "2023-12-10T17:51:51.683308400Z",
     "start_time": "2023-12-10T17:49:47.631943300Z"
    }
   },
   "id": "9d260d8c24765bd7"
  }
 ],
 "metadata": {
  "kernelspec": {
   "display_name": "Python 3",
   "language": "python",
   "name": "python3"
  },
  "language_info": {
   "codemirror_mode": {
    "name": "ipython",
    "version": 2
   },
   "file_extension": ".py",
   "mimetype": "text/x-python",
   "name": "python",
   "nbconvert_exporter": "python",
   "pygments_lexer": "ipython2",
   "version": "2.7.6"
  }
 },
 "nbformat": 4,
 "nbformat_minor": 5
}
