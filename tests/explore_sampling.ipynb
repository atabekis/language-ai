{
 "cells": [
  {
   "cell_type": "code",
   "execution_count": 2,
   "id": "2910b064",
   "metadata": {},
   "outputs": [
    {
     "data": {
      "text/plain": [
       "0        0\n",
       "1        1\n",
       "2        0\n",
       "3        1\n",
       "4        0\n",
       "        ..\n",
       "50231    1\n",
       "50232    1\n",
       "50233    1\n",
       "50234    1\n",
       "50235    1\n",
       "Name: label, Length: 50236, dtype: int64"
      ]
     },
     "execution_count": 2,
     "metadata": {},
     "output_type": "execute_result"
    }
   ],
   "source": [
    "#trying out SMOTE\n",
    "from imblearn.over_sampling import SMOTE\n",
    "from imblearn.pipeline import Pipeline as PipelineSmote\n",
    "import pandas as pd\n",
    "from sklearn.model_selection import train_test_split\n",
    "from sklearn.feature_extraction.text import TfidfVectorizer\n",
    "from sklearn.decomposition import TruncatedSVD\n",
    "import numpy as np\n",
    "\n",
    "\n",
    "\n",
    "df = pd.read_csv('C:/Users/sarpk/Desktop/TUe courses/Language&AI/assignment/cleaned_extrovert.csv', engine='pyarrow')\n",
    "X_train, X_test, y_train, y_test = train_test_split(df['post'], df['label'], test_size=0.2, random_state=5)\n",
    "\n",
    "tfidf = TfidfVectorizer(max_features=1000)  # Adjust the number of features to suit your dataset\n",
    "X_train_tfidf = tfidf.fit_transform(X_train)\n",
    "\n",
    "#reduce dimensionality for more efficient use in SMOTE\n",
    "svd = TruncatedSVD(n_components=100) \n",
    "X_train_svd = svd.fit_transform(X_train_tfidf)\n",
    "\n",
    "# Now apply SMOTE to generate synthetic samples in this reduced feature space\n",
    "smote = SMOTE(random_state=5)\n",
    "X_resampled, y_resampled = smote.fit_resample(X_train_svd, y_train)\n",
    "\n",
    "y_resampled_list = []\n",
    "for label in y_resampled:\n",
    "    y_resampled_list.append(label)\n",
    "    \n",
    "#50236 rows vs 40k in original dataset, there's exactly same amount of labels (25118 label 0 and 25118 label 1)\n",
    "#not sure if this is the best method to do it.\n",
    "#in general I don't think SMOTE is the best way to deal with the imbalanced dataset problem. when I was researching I also\n",
    "#saw places which said SMOTE isn't that good when used in oversampling text data, therefore I'm going to try the method used in \n",
    "#the lab session.\n",
    "\n",
    "y_resampled\n",
    "    \n"
   ]
  },
  {
   "cell_type": "code",
   "execution_count": 3,
   "id": "bebf4034",
   "metadata": {},
   "outputs": [
    {
     "name": "stdout",
     "output_type": "stream",
     "text": [
      "              precision    recall  f1-score   support\n",
      "\n",
      "           0       0.85      0.92      0.88      6252\n",
      "           1       0.62      0.47      0.53      1839\n",
      "\n",
      "    accuracy                           0.81      8091\n",
      "   macro avg       0.74      0.69      0.71      8091\n",
      "weighted avg       0.80      0.81      0.80      8091\n"
     ]
    }
   ],
   "source": [
    "#from pycharm in Ata testing\n",
    "from sklearn.naive_bayes import MultinomialNB, ComplementNB\n",
    "from sklearn.metrics import classification_report, f1_score, accuracy_score, precision_score, recall_score, confusion_matrix\n",
    "pipeline_smote = PipelineSmote([\n",
    "    ('tfidf', TfidfVectorizer()),\n",
    "    ('smote', SMOTE(random_state=5)),\n",
    "    ('classifier', ComplementNB())\n",
    "])\n",
    "\n",
    "pipeline_smote.fit(X_train, y_train)\n",
    "\n",
    "##%%\n",
    "y_pred = pipeline_smote.predict(X_test)\n",
    "print(classification_report(y_test, y_pred))\n"
   ]
  },
  {
   "cell_type": "code",
   "execution_count": 5,
   "id": "1341e9e1",
   "metadata": {},
   "outputs": [],
   "source": [
    "#method used in the lecture for imbalanced dataset problem\n",
    "import pandas as pd\n",
    "from sklearn.model_selection import train_test_split\n",
    "\n",
    "df = pd.read_csv('C:/Users/sarpk/Desktop/TUe courses/Language&AI/assignment/cleaned_extrovert.csv', engine='pyarrow')\n",
    "X = df['post']\n",
    "y = df['label']\n",
    "X_train, X_test, y_train, y_test = train_test_split(X, y, test_size=0.1, random_state=5, stratify=y)\n"
   ]
  },
  {
   "cell_type": "code",
   "execution_count": 8,
   "id": "307b5a72",
   "metadata": {},
   "outputs": [
    {
     "name": "stdout",
     "output_type": "stream",
     "text": [
      "Classification report without stratification:\n",
      "              precision    recall  f1-score   support\n",
      "\n",
      "           0       0.79      1.00      0.88      3140\n",
      "           1       0.91      0.07      0.13       906\n",
      "\n",
      "    accuracy                           0.79      4046\n",
      "   macro avg       0.85      0.53      0.51      4046\n",
      "weighted avg       0.82      0.79      0.71      4046\n",
      "\n",
      "Classification report with stratification:\n",
      "              precision    recall  f1-score   support\n",
      "\n",
      "           0       0.79      1.00      0.88      3138\n",
      "           1       0.89      0.06      0.11       908\n",
      "\n",
      "    accuracy                           0.79      4046\n",
      "   macro avg       0.84      0.53      0.49      4046\n",
      "weighted avg       0.81      0.79      0.71      4046\n"
     ]
    }
   ],
   "source": [
    "from sklearn.feature_extraction.text import TfidfVectorizer\n",
    "from sklearn.naive_bayes import MultinomialNB\n",
    "from sklearn.metrics import classification_report\n",
    "from sklearn.model_selection import train_test_split\n",
    "import pandas as pd\n",
    "from sklearn.model_selection import train_test_split\n",
    "\n",
    "df = pd.read_csv('C:/Users/sarpk/Desktop/TUe courses/Language&AI/assignment/cleaned_extrovert.csv', engine='pyarrow')\n",
    "X = df['post']\n",
    "y = df['label']\n",
    "\n",
    "#split without stratification\n",
    "X_train_nstrat, X_test_nstrat, y_train_nstrat, y_test_nstrat = train_test_split(X, y, test_size=0.1, random_state=5)\n",
    "\n",
    "#split with stratification\n",
    "X_train_strat, X_test_strat, y_train_strat, y_test_strat = train_test_split(X, y, test_size=0.1, random_state=5, stratify=y)\n",
    "\n",
    "\n",
    "tfidf_vectorizer = TfidfVectorizer() #using simple tfidf tokenizer to tokenize the text data\n",
    "\n",
    "X_train_tfidf_nstrat = tfidf_vectorizer.fit_transform(X_train_nstrat) #without strat\n",
    "X_test_tfidf_nstrat = tfidf_vectorizer.transform(X_test_nstrat)\n",
    "\n",
    "X_train_tfidf_strat = tfidf_vectorizer.fit_transform(X_train_strat) #with strat\n",
    "X_test_tfidf_strat = tfidf_vectorizer.transform(X_test_strat)\n",
    "\n",
    "\n",
    "clf_nstrat = MultinomialNB() #using naive bayes as classifier to train. with strat\n",
    "clf_nstrat.fit(X_train_tfidf_nstrat, y_train_nstrat)\n",
    "\n",
    "clf_strat = MultinomialNB() #without strat\n",
    "clf_strat.fit(X_train_tfidf_strat, y_train_strat)\n",
    "\n",
    "\n",
    "y_pred_nstrat = clf_nstrat.predict(X_test_tfidf_nstrat) #prediction and evaluation for both stratified and non stratified\n",
    "print(\"Classification report without stratification:\")\n",
    "print(classification_report(y_test_nstrat, y_pred_nstrat))\n",
    "\n",
    "y_pred_strat = clf_strat.predict(X_test_tfidf_strat)\n",
    "print(\"Classification report with stratification:\")\n",
    "print(classification_report(y_test_strat, y_pred_strat))\n"
   ]
  },
  {
   "cell_type": "code",
   "execution_count": 9,
   "id": "bc024f80",
   "metadata": {},
   "outputs": [
    {
     "name": "stdout",
     "output_type": "stream",
     "text": [
      "Classification report with shuffle:\n",
      "              precision    recall  f1-score   support\n",
      "\n",
      "           0       0.79      1.00      0.88      6274\n",
      "           1       0.82      0.07      0.13      1817\n",
      "\n",
      "    accuracy                           0.79      8091\n",
      "   macro avg       0.80      0.53      0.51      8091\n",
      "weighted avg       0.79      0.79      0.71      8091\n"
     ]
    }
   ],
   "source": [
    "from sklearn.model_selection import StratifiedShuffleSplit\n",
    "\n",
    "\n",
    "sss = StratifiedShuffleSplit(n_splits=5, test_size=0.2, random_state=42)\n",
    "\n",
    "for train_index, test_index in sss.split(X, y):\n",
    "    X_train_shuffle, X_test_shuffle = X[train_index], X[test_index]\n",
    "    y_train_shuffle, y_test_shuffle = y[train_index], y[test_index]\n",
    "\n",
    "\n",
    "    \n",
    "tfidf_vectorizer = TfidfVectorizer() #using simple tfidf tokenizer to tokenize the text data\n",
    "\n",
    "X_train_tfidf_shuffle = tfidf_vectorizer.fit_transform(X_train_shuffle) #with shuffle\n",
    "X_test_tfidf_shuffle = tfidf_vectorizer.transform(X_test_shuffle)\n",
    "\n",
    "clf_shuffle = MultinomialNB() #naive bayes as classifier for this too\n",
    "clf_shuffle.fit(X_train_tfidf_shuffle, y_train_shuffle)\n",
    "\n",
    "y_pred_shuffle = clf_shuffle.predict(X_test_tfidf_shuffle) #prediction and evaluation for both stratified and non stratified\n",
    "print(\"Classification report with shuffle:\")\n",
    "print(classification_report(y_test_shuffle, y_pred_shuffle))\n",
    "\n"
   ]
  },
  {
   "cell_type": "code",
   "execution_count": 10,
   "id": "cd3b4b3a",
   "metadata": {},
   "outputs": [],
   "source": [
    "#testing out another SMOTE method from the internet -- not that important\n",
    "from sklearn.neighbors import KNeighborsClassifier\n",
    "\n",
    "from imblearn import FunctionSampler\n",
    "from imblearn.over_sampling import ADASYN, SMOTE, RandomOverSampler\n",
    "from imblearn.pipeline import make_pipeline\n",
    "\n",
    "classifier = KNeighborsClassifier(n_neighbors=3)\n",
    "\n",
    "pipeline = [\n",
    "    make_pipeline(FunctionSampler(), classifier),\n",
    "    make_pipeline(RandomOverSampler(random_state=5), classifier),\n",
    "    make_pipeline(ADASYN(random_state=5), classifier),\n",
    "    make_pipeline(SMOTE(random_state=5), classifier),\n",
    "]\n",
    "\n"
   ]
  },
  {
   "cell_type": "code",
   "execution_count": 11,
   "id": "eba4d216",
   "metadata": {},
   "outputs": [],
   "source": [
    "from sklearn.model_selection import StratifiedKFold\n",
    "\n",
    "cv = StratifiedKFold(n_splits=3)"
   ]
  },
  {
   "cell_type": "code",
   "execution_count": null,
   "id": "ce9501f8",
   "metadata": {},
   "outputs": [],
   "source": [
    "from sklearn.metrics import RocCurveDisplay, auc, roc_curve\n",
    "\n",
    "disp = []\n",
    "for model in pipeline:\n",
    "    # compute the mean fpr/tpr to get the mean ROC curve\n",
    "    mean_tpr, mean_fpr = 0.0, np.linspace(0, 1, 100)\n",
    "    for train, test in cv.split(X, y):\n",
    "        model.fit(X[train], y[train])\n",
    "        y_proba = model.predict_proba(X[test])\n",
    "\n",
    "        pos_label_idx = np.flatnonzero(model.classes_ == pos_label)[0]\n",
    "        fpr, tpr, thresholds = roc_curve(\n",
    "            y[test], y_proba[:, pos_label_idx], pos_label=pos_label\n",
    "        )\n",
    "        mean_tpr += np.interp(mean_fpr, fpr, tpr)\n",
    "        mean_tpr[0] = 0.0\n",
    "\n",
    "    mean_tpr /= cv.get_n_splits(X, y)\n",
    "    mean_tpr[-1] = 1.0\n",
    "    mean_auc = auc(mean_fpr, mean_tpr)\n",
    "\n",
    "    # Create a display that we will reuse to make the aggregated plots for\n",
    "    # all methods\n",
    "    disp.append(\n",
    "        RocCurveDisplay(\n",
    "            fpr=mean_fpr,\n",
    "            tpr=mean_tpr,\n",
    "            roc_auc=mean_auc,\n",
    "            estimator_name=f\"{model[0].__class__.__name__}\",\n",
    "        )\n",
    "    )"
   ]
  },
  {
   "cell_type": "code",
   "execution_count": 20,
   "id": "afd042fb",
   "metadata": {},
   "outputs": [],
   "source": [
    "import numpy as np\n",
    "from sklearn.datasets import fetch_lfw_people\n",
    "\n",
    "data = fetch_lfw_people()\n",
    "george_bush_id = 1871  # Photos of George W. Bush\n",
    "bill_clinton_id = 531  # Photos of Bill Clinton\n",
    "classes = [george_bush_id, bill_clinton_id]\n",
    "classes_name = np.array([\"B. Clinton\", \"G.W. Bush\"], dtype=object)"
   ]
  },
  {
   "cell_type": "code",
   "execution_count": 25,
   "id": "83d399cf",
   "metadata": {},
   "outputs": [
    {
     "name": "stdout",
     "output_type": "stream",
     "text": [
      "[[ 85.       120.666664 149.33333  ...  18.        22.        27.666666]\n",
      " [136.       139.33333  143.33333  ... 131.33333  117.       115.      ]\n",
      " [ 89.        83.333336  66.       ... 126.       156.33333  173.      ]\n",
      " ...\n",
      " [ 31.        44.333332  82.       ... 228.33333  150.        34.      ]\n",
      " [129.66667  119.666664 100.333336 ...  24.666666  24.666666  25.666666]\n",
      " [188.66667  169.66667  159.66667  ... 142.33333  146.33333  147.33333 ]]\n"
     ]
    }
   ],
   "source": [
    "mask_photos = np.isin(data.target, classes)\n",
    "X, y = data.data[mask_photos], data.target[mask_photos]\n",
    "y = (y == george_bush_id).astype(np.int8)\n",
    "y = classes_name[y]"
   ]
  },
  {
   "cell_type": "code",
   "execution_count": 22,
   "id": "f5eec83a",
   "metadata": {},
   "outputs": [
    {
     "name": "stdout",
     "output_type": "stream",
     "text": [
      "The positive label considered as the minority class is B. Clinton\n"
     ]
    },
    {
     "data": {
      "image/png": "[encoded data removed]",
      "text/plain": [
       "<Figure size 640x480 with 1 Axes>"
      ]
     },
     "metadata": {},
     "output_type": "display_data"
    }
   ],
   "source": [
    "import matplotlib.pyplot as plt\n",
    "import pandas as pd\n",
    "\n",
    "class_distribution = pd.Series(y).value_counts(normalize=True)\n",
    "ax = class_distribution.plot.barh()\n",
    "ax.set_title(\"Class distribution\")\n",
    "pos_label = class_distribution.idxmin()\n",
    "plt.tight_layout()\n",
    "print(f\"The positive label considered as the minority class is {pos_label}\")"
   ]
  },
  {
   "cell_type": "code",
   "execution_count": null,
   "id": "66dc5ff7",
   "metadata": {},
   "outputs": [],
   "source": []
  }
 ],
 "metadata": {
  "kernelspec": {
   "display_name": "Python 3 (ipykernel)",
   "language": "python",
   "name": "python3"
  },
  "language_info": {
   "codemirror_mode": {
    "name": "ipython",
    "version": 3
   },
   "file_extension": ".py",
   "mimetype": "text/x-python",
   "name": "python",
   "nbconvert_exporter": "python",
   "pygments_lexer": "ipython3",
   "version": "3.9.13"
  }
 },
 "nbformat": 4,
 "nbformat_minor": 5
}
