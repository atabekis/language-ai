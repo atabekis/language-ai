{
 "cells": [
  {
   "cell_type": "code",
   "execution_count": 47,
   "id": "initial_id",
   "metadata": {
    "collapsed": true,
    "ExecuteTime": {
     "end_time": "2023-12-11T14:01:50.502114800Z",
     "start_time": "2023-12-11T14:01:50.494650Z"
    }
   },
   "outputs": [],
   "source": [
    "import fasttext as ft\n",
    "import numpy as np\n",
    "import pandas as pd\n",
    "from sklearn.model_selection import train_test_split\n",
    "from sklearn.metrics import precision_recall_fscore_support"
   ]
  },
  {
   "cell_type": "code",
   "execution_count": 39,
   "outputs": [
    {
     "data": {
      "text/plain": "     author_id                                               post  extrovert\n0  t2_2hrxxs28  I have a question, if you have no doctor, how'...          0\n1  t2_2hrxxs28  butt to have Covid + your cycle. I'm not sure ...          0\n2  t2_2hrxxs28  through different doctors. My situation sucks ...          0\n3   t2_4pxpgwz  i thought it was about the pebbleyeet guy the ...          0\n4   t2_4pxpgwz  …i always end up voting wrong even as crewmate...          0\n5   t2_4pxpgwz  made me feel a lot better. ooh yikes half of t...          0\n6   t2_4pxpgwz  your mouth, you’d have a panic attack whenever...          0\n7   t2_4pxpgwz  i didnt read the top half bc it was cropped of...          0\n8   t2_4pxpgwz  too hot? can’t do much, either strip nude or R...          0\n9   t2_4pxpgwz  otherwise, though, the “needing” masturbation ...          0",
      "text/html": "<div>\n<style scoped>\n    .dataframe tbody tr th:only-of-type {\n        vertical-align: middle;\n    }\n\n    .dataframe tbody tr th {\n        vertical-align: top;\n    }\n\n    .dataframe thead th {\n        text-align: right;\n    }\n</style>\n<table border=\"1\" class=\"dataframe\">\n  <thead>\n    <tr style=\"text-align: right;\">\n      <th></th>\n      <th>author_id</th>\n      <th>post</th>\n      <th>extrovert</th>\n    </tr>\n  </thead>\n  <tbody>\n    <tr>\n      <th>0</th>\n      <td>t2_2hrxxs28</td>\n      <td>I have a question, if you have no doctor, how'...</td>\n      <td>0</td>\n    </tr>\n    <tr>\n      <th>1</th>\n      <td>t2_2hrxxs28</td>\n      <td>butt to have Covid + your cycle. I'm not sure ...</td>\n      <td>0</td>\n    </tr>\n    <tr>\n      <th>2</th>\n      <td>t2_2hrxxs28</td>\n      <td>through different doctors. My situation sucks ...</td>\n      <td>0</td>\n    </tr>\n    <tr>\n      <th>3</th>\n      <td>t2_4pxpgwz</td>\n      <td>i thought it was about the pebbleyeet guy the ...</td>\n      <td>0</td>\n    </tr>\n    <tr>\n      <th>4</th>\n      <td>t2_4pxpgwz</td>\n      <td>…i always end up voting wrong even as crewmate...</td>\n      <td>0</td>\n    </tr>\n    <tr>\n      <th>5</th>\n      <td>t2_4pxpgwz</td>\n      <td>made me feel a lot better. ooh yikes half of t...</td>\n      <td>0</td>\n    </tr>\n    <tr>\n      <th>6</th>\n      <td>t2_4pxpgwz</td>\n      <td>your mouth, you’d have a panic attack whenever...</td>\n      <td>0</td>\n    </tr>\n    <tr>\n      <th>7</th>\n      <td>t2_4pxpgwz</td>\n      <td>i didnt read the top half bc it was cropped of...</td>\n      <td>0</td>\n    </tr>\n    <tr>\n      <th>8</th>\n      <td>t2_4pxpgwz</td>\n      <td>too hot? can’t do much, either strip nude or R...</td>\n      <td>0</td>\n    </tr>\n    <tr>\n      <th>9</th>\n      <td>t2_4pxpgwz</td>\n      <td>otherwise, though, the “needing” masturbation ...</td>\n      <td>0</td>\n    </tr>\n  </tbody>\n</table>\n</div>"
     },
     "execution_count": 39,
     "metadata": {},
     "output_type": "execute_result"
    }
   ],
   "source": [
    "df = pd.read_csv('../data/extrovert_introvert.csv', names=['author_id', 'post', 'extrovert'], header=0)\n",
    "df.head(10)"
   ],
   "metadata": {
    "collapsed": false,
    "ExecuteTime": {
     "end_time": "2023-12-11T13:45:42.423837100Z",
     "start_time": "2023-12-11T13:45:37.942818200Z"
    }
   },
   "id": "2f9ad065cd3350b8"
  },
  {
   "cell_type": "code",
   "execution_count": 40,
   "outputs": [],
   "source": [
    "train, test = train_test_split(df, test_size=0.2)"
   ],
   "metadata": {
    "collapsed": false,
    "ExecuteTime": {
     "end_time": "2023-12-11T13:45:42.438523400Z",
     "start_time": "2023-12-11T13:45:42.423837100Z"
    }
   },
   "id": "43a1d3436e5ea181"
  },
  {
   "cell_type": "code",
   "execution_count": 41,
   "outputs": [],
   "source": [
    "with open('../data/test_fasttext/train.txt', 'w+', encoding='utf-8') as f:\n",
    "    for index, row in train.iterrows():\n",
    "        label = '__label__' + str(row['extrovert'])\n",
    "        post = row['post']\n",
    "        author_id = row['author_id']\n",
    "        f.write(f'{label} {post} {author_id}\\n')\n",
    "    f.close()\n",
    "    \n",
    "with open('../data/test_fasttext/test.txt', 'w+', encoding='utf-8') as f:\n",
    "    for index, row in test.iterrows():\n",
    "        label = '__label__' + str(row['extrovert'])\n",
    "        post = row['post']\n",
    "        author_id = row['author_id']\n",
    "        f.write(f'{label} {post} {author_id}\\n')\n",
    "    f.close()"
   ],
   "metadata": {
    "collapsed": false,
    "ExecuteTime": {
     "end_time": "2023-12-11T13:45:45.879349400Z",
     "start_time": "2023-12-11T13:45:42.438523400Z"
    }
   },
   "id": "2cdb53f2b2f0758b"
  },
  {
   "cell_type": "code",
   "execution_count": 50,
   "outputs": [],
   "source": [
    "train = False\n",
    "# Running this takes 1-2 minutes, so im not adding model.bin to Git\n",
    "\n",
    "if train:\n",
    "    model = ft.train_supervised('../data/test_fasttext/train.txt',\n",
    "                                epoch=10,\n",
    "                                lr=0.1,\n",
    "                                wordNgrams=2)\n",
    "    model.save_model('../data/test_fasttext/model.bin')\n",
    "else:\n",
    "    model = ft.load_model('../data/test_fasttext/model.bin')"
   ],
   "metadata": {
    "collapsed": false,
    "ExecuteTime": {
     "end_time": "2023-12-11T14:08:14.594234200Z",
     "start_time": "2023-12-11T14:08:12.042321100Z"
    }
   },
   "id": "c3b68b1d36afafde"
  },
  {
   "cell_type": "code",
   "execution_count": 51,
   "outputs": [],
   "source": [
    "test_labels = []\n",
    "predicted_labels = []\n",
    "\n",
    "with open('../data/test_fasttext/test.txt', 'r', encoding='utf-8') as f:\n",
    "    for line in f:\n",
    "        parts = line.strip().split(' ')\n",
    "        test_labels.append(int(parts[0].replace('__label__', '')))\n",
    "        post_text = ' '.join(parts[1:-1])\n",
    "        author_id = parts[-1]\n",
    "        prediction = model.predict(f'{post_text} {author_id}')[0][0].replace('__label__', '')\n",
    "        predicted_labels.append(int(prediction))"
   ],
   "metadata": {
    "collapsed": false,
    "ExecuteTime": {
     "end_time": "2023-12-11T14:08:24.205927Z",
     "start_time": "2023-12-11T14:08:15.672764400Z"
    }
   },
   "id": "accdf6dd165ace34"
  },
  {
   "cell_type": "code",
   "execution_count": 52,
   "outputs": [
    {
     "name": "stdout",
     "output_type": "stream",
     "text": [
      "precision: [0.81213153 0.77510917]\n",
      "recall: [0.98365598 0.19843488]\n",
      "fscore: [0.88970219 0.31597686]\n",
      "support: [6302 1789]\n"
     ]
    }
   ],
   "source": [
    "# out = precision_recall_fscore_support(test_labels, predicted_labels)\n",
    "\n",
    "precision, recall, fscore, support = precision_recall_fscore_support(test_labels, predicted_labels)\n",
    "\n",
    "print('precision: {}'.format(precision))\n",
    "print('recall: {}'.format(recall))\n",
    "print('fscore: {}'.format(fscore))\n",
    "print('support: {}'.format(support))"
   ],
   "metadata": {
    "collapsed": false,
    "ExecuteTime": {
     "end_time": "2023-12-11T14:08:24.227903200Z",
     "start_time": "2023-12-11T14:08:24.205927Z"
    }
   },
   "id": "a80eac5a07d0ff70"
  },
  {
   "cell_type": "markdown",
   "source": [
    "The values are too high to be true, gonna try something else!"
   ],
   "metadata": {
    "collapsed": false
   },
   "id": "5c953665c57cfe30"
  }
 ],
 "metadata": {
  "kernelspec": {
   "display_name": "Python 3",
   "language": "python",
   "name": "python3"
  },
  "language_info": {
   "codemirror_mode": {
    "name": "ipython",
    "version": 2
   },
   "file_extension": ".py",
   "mimetype": "text/x-python",
   "name": "python",
   "nbconvert_exporter": "python",
   "pygments_lexer": "ipython2",
   "version": "2.7.6"
  }
 },
 "nbformat": 4,
 "nbformat_minor": 5
}
