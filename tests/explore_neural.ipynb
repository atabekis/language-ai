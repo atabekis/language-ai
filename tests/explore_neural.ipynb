{
 "cells": [
  {
   "cell_type": "code",
   "execution_count": 54,
   "id": "initial_id",
   "metadata": {
    "collapsed": true,
    "ExecuteTime": {
     "end_time": "2023-12-29T16:21:02.509955700Z",
     "start_time": "2023-12-29T16:21:02.505303200Z"
    }
   },
   "outputs": [],
   "source": [
    "import pandas as pd\n",
    "import numpy as np\n",
    "from sklearn.feature_extraction.text import TfidfVectorizer\n",
    "from sklearn.model_selection import train_test_split\n",
    "from sklearn.pipeline import Pipeline\n",
    "import keras\n",
    "from keras import layers\n",
    "import tensorflow as tf"
   ]
  },
  {
   "cell_type": "code",
   "execution_count": 60,
   "outputs": [
    {
     "data": {
      "text/plain": "[]"
     },
     "execution_count": 60,
     "metadata": {},
     "output_type": "execute_result"
    }
   ],
   "source": [
    "tf.config.list_physical_devices('GPU')"
   ],
   "metadata": {
    "collapsed": false,
    "ExecuteTime": {
     "end_time": "2023-12-29T16:48:54.710191600Z",
     "start_time": "2023-12-29T16:48:54.703892100Z"
    }
   },
   "id": "b425d7d8b6e6f1b"
  },
  {
   "cell_type": "code",
   "execution_count": 43,
   "outputs": [
    {
     "data": {
      "text/plain": "                                                    post  label\n0      question, doctor, how'd get painkillers? otc p...      0\n1      butt covid + cycle. i'm sure what's going i've...      0\n2      different doctors. situation sucks relate peop...      0\n3      thought pebbleyeet guy autistic guy wants “fix...      0\n4      …i always end voting wrong even crewmate. hour...      0\n...                                                  ...    ...\n40447  professional association** allow personal proj...      0\n40448  work artist's behalf. please post [weekly musi...      0\n40449  * chill * alternative/alt * lofi * electronic ...      0\n40450  without ability appeal. ___ ___ questions beli...      0\n40451  support that, especially given tax rises. oh, ...      0\n\n[40452 rows x 2 columns]",
      "text/html": "<div>\n<style scoped>\n    .dataframe tbody tr th:only-of-type {\n        vertical-align: middle;\n    }\n\n    .dataframe tbody tr th {\n        vertical-align: top;\n    }\n\n    .dataframe thead th {\n        text-align: right;\n    }\n</style>\n<table border=\"1\" class=\"dataframe\">\n  <thead>\n    <tr style=\"text-align: right;\">\n      <th></th>\n      <th>post</th>\n      <th>label</th>\n    </tr>\n  </thead>\n  <tbody>\n    <tr>\n      <th>0</th>\n      <td>question, doctor, how'd get painkillers? otc p...</td>\n      <td>0</td>\n    </tr>\n    <tr>\n      <th>1</th>\n      <td>butt covid + cycle. i'm sure what's going i've...</td>\n      <td>0</td>\n    </tr>\n    <tr>\n      <th>2</th>\n      <td>different doctors. situation sucks relate peop...</td>\n      <td>0</td>\n    </tr>\n    <tr>\n      <th>3</th>\n      <td>thought pebbleyeet guy autistic guy wants “fix...</td>\n      <td>0</td>\n    </tr>\n    <tr>\n      <th>4</th>\n      <td>…i always end voting wrong even crewmate. hour...</td>\n      <td>0</td>\n    </tr>\n    <tr>\n      <th>...</th>\n      <td>...</td>\n      <td>...</td>\n    </tr>\n    <tr>\n      <th>40447</th>\n      <td>professional association** allow personal proj...</td>\n      <td>0</td>\n    </tr>\n    <tr>\n      <th>40448</th>\n      <td>work artist's behalf. please post [weekly musi...</td>\n      <td>0</td>\n    </tr>\n    <tr>\n      <th>40449</th>\n      <td>* chill * alternative/alt * lofi * electronic ...</td>\n      <td>0</td>\n    </tr>\n    <tr>\n      <th>40450</th>\n      <td>without ability appeal. ___ ___ questions beli...</td>\n      <td>0</td>\n    </tr>\n    <tr>\n      <th>40451</th>\n      <td>support that, especially given tax rises. oh, ...</td>\n      <td>0</td>\n    </tr>\n  </tbody>\n</table>\n<p>40452 rows × 2 columns</p>\n</div>"
     },
     "execution_count": 43,
     "metadata": {},
     "output_type": "execute_result"
    }
   ],
   "source": [
    "df = pd.read_csv(\"../data/cleaned_extrovert.csv\", engine='pyarrow')\n",
    "text = df['post']\n",
    "labels = df['label']\n"
   ],
   "metadata": {
    "collapsed": false,
    "ExecuteTime": {
     "end_time": "2023-12-29T16:08:22.204861700Z",
     "start_time": "2023-12-29T16:08:21.546032300Z"
    }
   },
   "id": "5748a350c803d14d"
  },
  {
   "cell_type": "code",
   "execution_count": 35,
   "outputs": [],
   "source": [
    "X_train, X_test, y_train, y_test = train_test_split(text, labels, test_size=0.2, random_state=5)"
   ],
   "metadata": {
    "collapsed": false,
    "ExecuteTime": {
     "end_time": "2023-12-29T16:06:33.998068Z",
     "start_time": "2023-12-29T16:06:33.915915900Z"
    }
   },
   "id": "1ebe5d12de278e94"
  },
  {
   "cell_type": "code",
   "execution_count": 36,
   "outputs": [],
   "source": [
    "max_features = 20000\n",
    "embedding_dim = 128\n",
    "sequence_length = 500"
   ],
   "metadata": {
    "collapsed": false,
    "ExecuteTime": {
     "end_time": "2023-12-29T16:06:34.008160Z",
     "start_time": "2023-12-29T16:06:34.002799300Z"
    }
   },
   "id": "34acf0cc8bad9d47"
  },
  {
   "cell_type": "code",
   "execution_count": 37,
   "outputs": [],
   "source": [
    "vectorize_layer = keras.layers.TextVectorization(\n",
    "    max_tokens=max_features,\n",
    "    output_mode='int',\n",
    "    output_sequence_length=sequence_length\n",
    ")"
   ],
   "metadata": {
    "collapsed": false,
    "ExecuteTime": {
     "end_time": "2023-12-29T16:06:34.028103200Z",
     "start_time": "2023-12-29T16:06:34.008160Z"
    }
   },
   "id": "a9b823f30a5de1b2"
  },
  {
   "cell_type": "code",
   "execution_count": 38,
   "outputs": [],
   "source": [
    "vectorize_layer.adapt(X_train)"
   ],
   "metadata": {
    "collapsed": false,
    "ExecuteTime": {
     "end_time": "2023-12-29T16:06:49.816249300Z",
     "start_time": "2023-12-29T16:06:34.021999100Z"
    }
   },
   "id": "4fa62a6799e5fcbe"
  },
  {
   "cell_type": "code",
   "execution_count": 39,
   "outputs": [],
   "source": [
    "# text_input = keras.Input(shape=(1,), dtype=tf.string, name='text')\n",
    "# x = vectorize_layer(text_input)\n",
    "# x = layers.Embedding(max_features + 1, embedding_dim)(x)"
   ],
   "metadata": {
    "collapsed": false,
    "ExecuteTime": {
     "end_time": "2023-12-29T16:06:49.824233600Z",
     "start_time": "2023-12-29T16:06:49.794959300Z"
    }
   },
   "id": "112a53383f701f6c"
  },
  {
   "cell_type": "code",
   "execution_count": 56,
   "outputs": [],
   "source": [
    "text_input = keras.Input(shape=(1,), dtype=tf.string, name='text')\n",
    "x = vectorize_layer(text_input)\n",
    "x = layers.Embedding(max_features + 1, embedding_dim)(x)\n",
    "\n",
    "x = layers.Dropout(0.5)(x)\n",
    "\n",
    "# Conv1D + global max pooling\n",
    "x = layers.Conv1D(128, 7, padding=\"valid\", activation=\"relu\", strides=3)(x)\n",
    "x = layers.Conv1D(128, 7, padding=\"valid\", activation=\"relu\", strides=3)(x)\n",
    "x = layers.GlobalMaxPooling1D()(x)\n",
    "\n",
    "# We add a vanilla hidden layer:\n",
    "x = layers.Dense(128, activation=\"relu\")(x)\n",
    "x = layers.Dropout(0.5)(x)\n",
    "\n",
    "# We project onto a single unit output layer, and squash it with a sigmoid:\n",
    "predictions = layers.Dense(1, activation=\"sigmoid\", name=\"predictions\")(x)\n",
    "\n",
    "model = keras.Model(text_input, predictions)\n",
    "\n",
    "# Compile the model with binary crossentropy loss and an adam optimizer.\n",
    "model.compile(loss=\"binary_crossentropy\", optimizer=\"adam\", metrics=[\"accuracy\", keras.metrics.AUC()])"
   ],
   "metadata": {
    "collapsed": false,
    "ExecuteTime": {
     "end_time": "2023-12-29T16:22:01.697861300Z",
     "start_time": "2023-12-29T16:22:01.634029900Z"
    }
   },
   "id": "a2a7f706c5731152"
  },
  {
   "cell_type": "code",
   "execution_count": 57,
   "outputs": [
    {
     "name": "stdout",
     "output_type": "stream",
     "text": [
      "Epoch 1/2\n",
      "\u001B[1m1012/1012\u001B[0m \u001B[32m━━━━━━━━━━━━━━━━━━━━\u001B[0m\u001B[37m\u001B[0m \u001B[1m120s\u001B[0m 117ms/step - accuracy: 0.7776 - auc: 0.6104 - loss: 0.5156\n",
      "Epoch 2/2\n",
      "\u001B[1m1012/1012\u001B[0m \u001B[32m━━━━━━━━━━━━━━━━━━━━\u001B[0m\u001B[37m\u001B[0m \u001B[1m111s\u001B[0m 110ms/step - accuracy: 0.8500 - auc: 0.8722 - loss: 0.3527\n"
     ]
    },
    {
     "data": {
      "text/plain": "<keras.src.callbacks.history.History at 0x20d91453cd0>"
     },
     "execution_count": 57,
     "metadata": {},
     "output_type": "execute_result"
    }
   ],
   "source": [
    "epochs = 2\n",
    "model.fit(X_train, y_train, epochs=epochs)"
   ],
   "metadata": {
    "collapsed": false,
    "ExecuteTime": {
     "end_time": "2023-12-29T16:25:54.608726700Z",
     "start_time": "2023-12-29T16:22:03.063822800Z"
    }
   },
   "id": "417e0fcfae79d50"
  },
  {
   "cell_type": "code",
   "execution_count": 51,
   "outputs": [
    {
     "name": "stdout",
     "output_type": "stream",
     "text": [
      "\u001B[1m253/253\u001B[0m \u001B[32m━━━━━━━━━━━━━━━━━━━━\u001B[0m\u001B[37m\u001B[0m \u001B[1m5s\u001B[0m 18ms/step\n"
     ]
    }
   ],
   "source": [
    "y_pred = model.predict(X_test)"
   ],
   "metadata": {
    "collapsed": false,
    "ExecuteTime": {
     "end_time": "2023-12-29T16:18:33.984330700Z",
     "start_time": "2023-12-29T16:18:29.071883600Z"
    }
   },
   "id": "f64acd9583cf648c"
  },
  {
   "cell_type": "code",
   "execution_count": 55,
   "outputs": [
    {
     "data": {
      "text/plain": "array([[6036,  216],\n       [1146,  693]], dtype=int64)"
     },
     "execution_count": 55,
     "metadata": {},
     "output_type": "execute_result"
    }
   ],
   "source": [
    "from sklearn.metrics import confusion_matrix\n",
    "predictions = np.where(y_pred > 0.5, 1, 0)\n",
    "confusion_matrix(y_test, predictions)"
   ],
   "metadata": {
    "collapsed": false,
    "ExecuteTime": {
     "end_time": "2023-12-29T16:21:38.833988300Z",
     "start_time": "2023-12-29T16:21:38.823576100Z"
    }
   },
   "id": "53ea6ba17fe87d47"
  }
 ],
 "metadata": {
  "kernelspec": {
   "display_name": "Python 3",
   "language": "python",
   "name": "python3"
  },
  "language_info": {
   "codemirror_mode": {
    "name": "ipython",
    "version": 2
   },
   "file_extension": ".py",
   "mimetype": "text/x-python",
   "name": "python",
   "nbconvert_exporter": "python",
   "pygments_lexer": "ipython2",
   "version": "2.7.6"
  }
 },
 "nbformat": 4,
 "nbformat_minor": 5
}
