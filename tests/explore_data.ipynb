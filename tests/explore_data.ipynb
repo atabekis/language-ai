{
 "cells": [
  {
   "cell_type": "markdown",
   "source": [
    "# Exploring the data\n",
    "## Introverted vs. Extroverted"
   ],
   "metadata": {
    "collapsed": false
   },
   "id": "b6fc0bd88b487ce1"
  },
  {
   "cell_type": "code",
   "execution_count": 2,
   "outputs": [],
   "source": [
    "import spacy\n",
    "import string\n",
    "import numpy as np\n",
    "import pandas as pd\n",
    "from typing import List\n",
    "from collections import Counter\n",
    "from tqdm.notebook import tqdm\n"
   ],
   "metadata": {
    "collapsed": false,
    "ExecuteTime": {
     "end_time": "2023-12-15T17:16:39.662777600Z",
     "start_time": "2023-12-15T17:16:37.695907100Z"
    }
   },
   "id": "8901cc1480b06fbe"
  },
  {
   "cell_type": "markdown",
   "source": [
    "Checking out the structure of the data,\n",
    "* How many words per row (using .split(' '))\n",
    "* How many rows per user"
   ],
   "metadata": {
    "collapsed": false
   },
   "id": "af262aec1547ec3a"
  },
  {
   "cell_type": "code",
   "execution_count": 3,
   "id": "initial_id",
   "metadata": {
    "collapsed": true,
    "ExecuteTime": {
     "end_time": "2023-12-15T17:16:44.181833800Z",
     "start_time": "2023-12-15T17:16:39.661778500Z"
    }
   },
   "outputs": [
    {
     "data": {
      "text/plain": "     author_id                                               post  extrovert\n0  t2_2hrxxs28  I have a question, if you have no doctor, how'...          0\n1  t2_2hrxxs28  butt to have Covid + your cycle. I'm not sure ...          0\n2  t2_2hrxxs28  through different doctors. My situation sucks ...          0\n3   t2_4pxpgwz  i thought it was about the pebbleyeet guy the ...          0\n4   t2_4pxpgwz  …i always end up voting wrong even as crewmate...          0\n5   t2_4pxpgwz  made me feel a lot better. ooh yikes half of t...          0\n6   t2_4pxpgwz  your mouth, you’d have a panic attack whenever...          0\n7   t2_4pxpgwz  i didnt read the top half bc it was cropped of...          0\n8   t2_4pxpgwz  too hot? can’t do much, either strip nude or R...          0\n9   t2_4pxpgwz  otherwise, though, the “needing” masturbation ...          0",
      "text/html": "<div>\n<style scoped>\n    .dataframe tbody tr th:only-of-type {\n        vertical-align: middle;\n    }\n\n    .dataframe tbody tr th {\n        vertical-align: top;\n    }\n\n    .dataframe thead th {\n        text-align: right;\n    }\n</style>\n<table border=\"1\" class=\"dataframe\">\n  <thead>\n    <tr style=\"text-align: right;\">\n      <th></th>\n      <th>author_id</th>\n      <th>post</th>\n      <th>extrovert</th>\n    </tr>\n  </thead>\n  <tbody>\n    <tr>\n      <th>0</th>\n      <td>t2_2hrxxs28</td>\n      <td>I have a question, if you have no doctor, how'...</td>\n      <td>0</td>\n    </tr>\n    <tr>\n      <th>1</th>\n      <td>t2_2hrxxs28</td>\n      <td>butt to have Covid + your cycle. I'm not sure ...</td>\n      <td>0</td>\n    </tr>\n    <tr>\n      <th>2</th>\n      <td>t2_2hrxxs28</td>\n      <td>through different doctors. My situation sucks ...</td>\n      <td>0</td>\n    </tr>\n    <tr>\n      <th>3</th>\n      <td>t2_4pxpgwz</td>\n      <td>i thought it was about the pebbleyeet guy the ...</td>\n      <td>0</td>\n    </tr>\n    <tr>\n      <th>4</th>\n      <td>t2_4pxpgwz</td>\n      <td>…i always end up voting wrong even as crewmate...</td>\n      <td>0</td>\n    </tr>\n    <tr>\n      <th>5</th>\n      <td>t2_4pxpgwz</td>\n      <td>made me feel a lot better. ooh yikes half of t...</td>\n      <td>0</td>\n    </tr>\n    <tr>\n      <th>6</th>\n      <td>t2_4pxpgwz</td>\n      <td>your mouth, you’d have a panic attack whenever...</td>\n      <td>0</td>\n    </tr>\n    <tr>\n      <th>7</th>\n      <td>t2_4pxpgwz</td>\n      <td>i didnt read the top half bc it was cropped of...</td>\n      <td>0</td>\n    </tr>\n    <tr>\n      <th>8</th>\n      <td>t2_4pxpgwz</td>\n      <td>too hot? can’t do much, either strip nude or R...</td>\n      <td>0</td>\n    </tr>\n    <tr>\n      <th>9</th>\n      <td>t2_4pxpgwz</td>\n      <td>otherwise, though, the “needing” masturbation ...</td>\n      <td>0</td>\n    </tr>\n  </tbody>\n</table>\n</div>"
     },
     "execution_count": 3,
     "metadata": {},
     "output_type": "execute_result"
    }
   ],
   "source": [
    "df = pd.read_csv('../data/extrovert_introvert.csv', names=['author_id', 'post', 'extrovert'], header=0, )\n",
    "df.head(10)"
   ]
  },
  {
   "cell_type": "code",
   "execution_count": 4,
   "outputs": [],
   "source": [
    "# Save the dataframe with the better column names\n",
    "# df.to_csv('../data/changed_columns.csv', index=False)"
   ],
   "metadata": {
    "collapsed": false,
    "ExecuteTime": {
     "end_time": "2023-12-15T17:16:51.961355900Z",
     "start_time": "2023-12-15T17:16:44.183914300Z"
    }
   },
   "id": "25702799d7d70b20"
  },
  {
   "cell_type": "code",
   "execution_count": 5,
   "outputs": [
    {
     "name": "stdout",
     "output_type": "stream",
     "text": [
      "<class 'pandas.core.frame.DataFrame'>\n",
      "RangeIndex: 40452 entries, 0 to 40451\n",
      "Data columns (total 3 columns):\n",
      " #   Column     Non-Null Count  Dtype \n",
      "---  ------     --------------  ----- \n",
      " 0   author_id  40452 non-null  object\n",
      " 1   post       40452 non-null  object\n",
      " 2   extrovert  40452 non-null  int64 \n",
      "dtypes: int64(1), object(2)\n",
      "memory usage: 948.2+ KB\n"
     ]
    }
   ],
   "source": [
    "df.info()"
   ],
   "metadata": {
    "collapsed": false,
    "ExecuteTime": {
     "end_time": "2023-12-15T17:16:51.975532500Z",
     "start_time": "2023-12-15T17:16:51.940470500Z"
    }
   },
   "id": "930a4be704a17ad"
  },
  {
   "cell_type": "markdown",
   "source": [
    "Number of authors: 1992\n",
    "and every row has 1500 words"
   ],
   "metadata": {
    "collapsed": false
   },
   "id": "ee2fe14a09c7aab2"
  },
  {
   "cell_type": "code",
   "execution_count": 6,
   "outputs": [
    {
     "data": {
      "text/plain": "extrovert\n0    31370\n1     9082\nName: count, dtype: int64"
     },
     "execution_count": 6,
     "metadata": {},
     "output_type": "execute_result"
    }
   ],
   "source": [
    "# Checking for imbalanced dataset\n",
    "df.extrovert.value_counts()"
   ],
   "metadata": {
    "collapsed": false,
    "ExecuteTime": {
     "end_time": "2023-12-15T17:16:51.990716700Z",
     "start_time": "2023-12-15T17:16:51.967829200Z"
    }
   },
   "id": "a4d99eb41e4b9c5c"
  },
  {
   "cell_type": "code",
   "execution_count": 7,
   "outputs": [
    {
     "data": {
      "text/plain": "{12715, 20059, 29577, 35532, 37062}"
     },
     "execution_count": 7,
     "metadata": {},
     "output_type": "execute_result"
    }
   ],
   "source": [
    "testing = df[df['post'].str.contains('https://', case=False, na=False)]\n",
    "set(testing.index)"
   ],
   "metadata": {
    "collapsed": false,
    "ExecuteTime": {
     "end_time": "2023-12-15T17:16:55.345085500Z",
     "start_time": "2023-12-15T17:16:51.982121400Z"
    }
   },
   "id": "37f8b681be7b8add"
  },
  {
   "cell_type": "markdown",
   "source": [
    "Check if there are authors with different labels"
   ],
   "metadata": {
    "collapsed": false
   },
   "id": "9940ea22372bfb5b"
  },
  {
   "cell_type": "code",
   "execution_count": 8,
   "outputs": [],
   "source": [
    "# result = df.groupby('author_id')['extrovert'].nunique() > 1\n"
   ],
   "metadata": {
    "collapsed": false,
    "ExecuteTime": {
     "end_time": "2023-12-15T17:16:55.346410900Z",
     "start_time": "2023-12-15T17:16:55.342126800Z"
    }
   },
   "id": "dd62d73ada2d4465"
  },
  {
   "cell_type": "code",
   "execution_count": 9,
   "outputs": [
    {
     "data": {
      "text/plain": "'I have a question, if you have no doctor, how\\'d you get painkillers? Most OTC painkillers don\\'t make you lose your feeling for using the bathroom. I agree with others, this is ER worthy. Head to the hospital. Not yet, I moved out of state almost a year ago &amp; can\\'t afford insurance in my new state. I\\'m going to urgent care in a couple weeks when I can afford it. Thanks I\\'ll try the stool softener. I had a very terrible reaction to Miralax. With urgent care, you pay upfront, usually. Well, in my old state. Yeah, I\\'m starting to think they can smell vulnerability and the potential for them to get an ego boost from your bpd traits is triggered. I call people like these types, sharks. Getting to a real doctor may take an entire month, with sliding fee scale.. but what have I got to lose? Thank you Yikes That\\'s a hard thing to teach. Your eyes look hazel Hazel, I see hints of brown &amp; very light green Your eyes look just like mine. They\\'re hazel green.. mostly green with brown around pupil. They look \"brown\" from a distance or indoors because it\\'s darker green, mixed with brown. The blue\\'ish/grayish ring around the eye may be Corneal arcus..at least that\\'s what it looks like to me. The eye color is very beautiful, regardless. It most definitely is. You\\'re welcome I\\'m sorry but this relationship seems abusive. Nevermind the Twinflame thing, if he\\'s hot &amp; cold, he\\'s probably got you in some kind of rotation &amp; you should be glad to be blocked. If you reach out to him after you\\'re blocked, he\\'s gonna start seeing you as a stalker &amp; whatnot. I hope it doesn\\'t get to that point for you. Glad you were able to get some health are. This is atrocious! Thanks for the detailed advice. I\\'ll look @ the sub &amp; pray this isn\\'t what I\\'ve got. Not to sound like a baby but idk what I\\'d do. My family can\\'t afford organic foods and etc Thanks so much for the info. I downloaded a pamphlet about which foods to eat on fodmap diet. I\\'ll ask about financial assistance. Hopefully I qualify. I\\'m going to do that when I get home. I\\'m sorry if the updates are annoying, just doing this for my own future benefit and just in case anyone else deals w/something similar. Hazel, clearly greenish on the outer part and brown on the in Oh okay, sorry for misreading. Thanks for caring. I put a update on the bottom, there. It\\'ll be the last one. I was prescribed paxlovid Thanks, been doing all of the above and got paxlovid..now just scared of rebound. Thank you. I came here to find an answer to this because I\\'ve been needing health insurance all of this time and just realized I\\'m probably eligible. I used to dance a lot &amp; SVT almost made me collapse on the ground..especially because it always paired with my sinus arrhythmia. I had an ablation to correct it in 2020.. I haven\\'t had one since but still get palpations and etc from breathing in too fast die to sinus arrhythmia. (I think). I heard this is dangerous, so hope you can get it resolved. It\\'s very uncomfortable. Well that bites, there\\'s no way for me to get a hold of it. It was an ER doctor &amp; he didn\\'t say much except the heart wasn\\'t enlarged. Hey Sam, did you ever take the Paxlovid and if so, did it work? I\\'m on Day 6 and just now getting the meds. I was just prescribed this, also diagnosed w/PTSD + Severe Anxiety Disorder, (I\\'d rather not name) &amp; this made me decide I should probably take the doses in halfs.. Thanks so much, just took my 1st dose Thanks for the update. I just started my 1st dose.. I guess I\\'m more scared of this virus now than I am the Pax I\\'ve been eating clam chowder &amp; cup noodles.. I hope that\\'s okay, too. I\\'m so sorry you\\'re going through this... especially with so many issues + having children. I hope you and your family gets through this. I\\'m also battling Covid with health conditions and it\\'s a challenge. My menstrual cycle is due soon like yours. This is torture. Thank you, I hope too. :( I\\'m scared Ugh. I\\'ve read some people died in their sleep so now I\\'m freaking out, not wanting to sleep. Thanks, best of luck to you as well. Thanks, hope you\\'re right. 🤍 It\\'s awful. I\\'m not taking anymore. Same, yesterday was the only 2 doses This is what I\\'m dealing with right now, as I\\'m Covid+. It\\'s the worst thing in life, it literally keeps you from sleeping. Although I do think I may have unknown heart issues, this is costochondritis and I know Aspirin is a blood thinner but it\\'s also a pain reliever. I just looked up symptoms of micro vascular angina and I don\\'t suffer from chest pains. It\\'s rib pain at the sides &amp; also where my breastbone connects. I also have sternum swelling where the pain radiates from. Aspirin gets rid of that for a time. Either way, I\\'ll have to see a cardiologist soon, so I\\'ll know for sure. Awww man. :( I was looking into this, as someone with Tietze and now Covid because Covid made my Tietze much worse...I hope you feel better and sorry about all that hard work going to waste. Thanks so much. This helps Thank you, tea also helps with my congestion I really want to..the doctor just told me to lay off the aspirin. I\\'m gonna lay off the Prednisone though coz now I have my menstrual cycle DURING my Covid Thanks, will do. Wow, that\\'s awful. I hope the best for you. This illness sucks!!!! This is also driving me up a wall. Since last Wednesday Nope &amp; it\\'s very annoying. Can\\'t be up for more than 10 minutes, 5 if I\\'m lucky. I hope you get better soon. I took 2 &amp; stopped. I didn\\'t have any effects Good luck Hope you heal up nice and fast When someone gets reinfected after testing negative I think we have to wait until we test negative to see if it rebounds. Hopefully we don\\'t. What day of Covid symptoms are you on? I\\'m on Day 10. Ugh.. I hope that doesn\\'t happen to me. This has been hell I am praying you\\'re right because I can\\'t do another round of this stupid virus Good luck Better because I\\'d have access to anxiety meds! Hello, needed to vent a bit. I was diagnosed with Panic Disorder some years ago &amp; I\\'m currently on Day 10 of having Covid &amp; it\\'s been keeping my anxiety super high,higher than it\\'s ever been. I can\\'t get any sleep, all I can do is stay up Googling every little sound of difference in my body &amp; I\\'ve been checking my oxygen on the at home meter every 15 minutes. I have GERD and costochondritis on top of it and have taken more aspirins than I can count on the onset of symptoms. This is seriously the WORST thing to happen to me to date. I\\'ve been to the ER several times and nothing\\'s been wrong, (so they say) except my EKGs have been abnormal, (which contributes to my anxiety). I just wanna go back to normal or feel like a normal person. This is so awful and inhumane!!! I wish I had some anxiety medications like Valium or Xanax to help me!! I seriously would take that stuff to get better! I\\'m so tired!! I really am. :\\'( This is old but I wonder how the OP is doing now as I\\'m dealing with the exact same thing. Some moments are worse than others. It\\'s also worse when I\\'m laying down. It\\'s so scary. Hey, I hope you\\'re doing better and are cancer free now? I really like the portion about Aspirin but is that safe? Is it safe to take 325mg daily for 90 days &amp; you\\'re stomach won\\'t bleed, etc? Glad you turned out okay, thanks so much Glad you\\'re still alive and doing as best as you can. Hopefully you will find relief from your legs, soon. I\\'m so sorry about the pain you are feeling. I was diagnosed with Tietze Syndrome, (inflammation of the chest wall/breastbone) onn my first few days, I literally felt like my entire skeleton was gonna fall through my chest &amp; can no longer sleep on my bed. Ribs still hurt, depending on how I turn, so can\\'t sleep comfortably on my sides anymore. It really does suck. I\\'m on Day 11 &amp; still have some pain here and there. I wish you a solution, relief &amp; peace. So sorry I\\'ve had Covid since the 8th &amp; came on my cycle about 3/4 days ago..I\\'ve noticed nothing unusual, though it\\'s a pain in the'"
     },
     "execution_count": 9,
     "metadata": {},
     "output_type": "execute_result"
    }
   ],
   "source": [
    "text = df.loc[0, 'post']\n",
    "text"
   ],
   "metadata": {
    "collapsed": false,
    "ExecuteTime": {
     "end_time": "2023-12-15T17:16:55.354679800Z",
     "start_time": "2023-12-15T17:16:55.347556900Z"
    }
   },
   "id": "6cb40b004c846895"
  },
  {
   "cell_type": "code",
   "execution_count": 10,
   "outputs": [
    {
     "data": {
      "text/plain": "'I have a question, if you have no doctor, how\\'d you get painkillers? Most OTC painkillers don\\'t make you lose your feeling for using the bathroom. I agree with others, this is ER worthy. Head to the hospital. Not yet, I moved out of state almost a year ago & can\\'t afford insurance in my new state. I\\'m going to urgent care in a couple weeks when I can afford it. Thanks I\\'ll try the stool softener. I had a very terrible reaction to Miralax. With urgent care, you pay upfront, usually. Well, in my old state. Yeah, I\\'m starting to think they can smell vulnerability and the potential for them to get an ego boost from your bpd traits is triggered. I call people like these types, sharks. Getting to a real doctor may take an entire month, with sliding fee scale.. but what have I got to lose? Thank you Yikes That\\'s a hard thing to teach. Your eyes look hazel Hazel, I see hints of brown & very light green Your eyes look just like mine. They\\'re hazel green.. mostly green with brown around pupil. They look \"brown\" from a distance or indoors because it\\'s darker green, mixed with brown. The blue\\'ish/grayish ring around the eye may be Corneal arcus..at least that\\'s what it looks like to me. The eye color is very beautiful, regardless. It most definitely is. You\\'re welcome I\\'m sorry but this relationship seems abusive. Nevermind the Twinflame thing, if he\\'s hot & cold, he\\'s probably got you in some kind of rotation & you should be glad to be blocked. If you reach out to him after you\\'re blocked, he\\'s gonna start seeing you as a stalker & whatnot. I hope it doesn\\'t get to that point for you. Glad you were able to get some health are. This is atrocious! Thanks for the detailed advice. I\\'ll look @ the sub & pray this isn\\'t what I\\'ve got. Not to sound like a baby but idk what I\\'d do. My family can\\'t afford organic foods and etc Thanks so much for the info. I downloaded a pamphlet about which foods to eat on fodmap diet. I\\'ll ask about financial assistance. Hopefully I qualify. I\\'m going to do that when I get home. I\\'m sorry if the updates are annoying, just doing this for my own future benefit and just in case anyone else deals w/something similar. Hazel, clearly greenish on the outer part and brown on the in Oh okay, sorry for misreading. Thanks for caring. I put a update on the bottom, there. It\\'ll be the last one. I was prescribed paxlovid Thanks, been doing all of the above and got paxlovid..now just scared of rebound. Thank you. I came here to find an answer to this because I\\'ve been needing health insurance all of this time and just realized I\\'m probably eligible. I used to dance a lot & SVT almost made me collapse on the ground..especially because it always paired with my sinus arrhythmia. I had an ablation to correct it in 2020.. I haven\\'t had one since but still get palpations and etc from breathing in too fast die to sinus arrhythmia. (I think). I heard this is dangerous, so hope you can get it resolved. It\\'s very uncomfortable. Well that bites, there\\'s no way for me to get a hold of it. It was an ER doctor & he didn\\'t say much except the heart wasn\\'t enlarged. Hey Sam, did you ever take the Paxlovid and if so, did it work? I\\'m on Day 6 and just now getting the meds. I was just prescribed this, also diagnosed w/PTSD + Severe Anxiety Disorder, (I\\'d rather not name) & this made me decide I should probably take the doses in halfs.. Thanks so much, just took my 1st dose Thanks for the update. I just started my 1st dose.. I guess I\\'m more scared of this virus now than I am the Pax I\\'ve been eating clam chowder & cup noodles.. I hope that\\'s okay, too. I\\'m so sorry you\\'re going through this... especially with so many issues + having children. I hope you and your family gets through this. I\\'m also battling Covid with health conditions and it\\'s a challenge. My menstrual cycle is due soon like yours. This is torture. Thank you, I hope too. :( I\\'m scared Ugh. I\\'ve read some people died in their sleep so now I\\'m freaking out, not wanting to sleep. Thanks, best of luck to you as well. Thanks, hope you\\'re right. 🤍 It\\'s awful. I\\'m not taking anymore. Same, yesterday was the only 2 doses This is what I\\'m dealing with right now, as I\\'m Covid+. It\\'s the worst thing in life, it literally keeps you from sleeping. Although I do think I may have unknown heart issues, this is costochondritis and I know Aspirin is a blood thinner but it\\'s also a pain reliever. I just looked up symptoms of micro vascular angina and I don\\'t suffer from chest pains. It\\'s rib pain at the sides & also where my breastbone connects. I also have sternum swelling where the pain radiates from. Aspirin gets rid of that for a time. Either way, I\\'ll have to see a cardiologist soon, so I\\'ll know for sure. Awww man. :( I was looking into this, as someone with Tietze and now Covid because Covid made my Tietze much worse...I hope you feel better and sorry about all that hard work going to waste. Thanks so much. This helps Thank you, tea also helps with my congestion I really want to..the doctor just told me to lay off the aspirin. I\\'m gonna lay off the Prednisone though coz now I have my menstrual cycle DURING my Covid Thanks, will do. Wow, that\\'s awful. I hope the best for you. This illness sucks!!!! This is also driving me up a wall. Since last Wednesday Nope & it\\'s very annoying. Can\\'t be up for more than 10 minutes, 5 if I\\'m lucky. I hope you get better soon. I took 2 & stopped. I didn\\'t have any effects Good luck Hope you heal up nice and fast When someone gets reinfected after testing negative I think we have to wait until we test negative to see if it rebounds. Hopefully we don\\'t. What day of Covid symptoms are you on? I\\'m on Day 10. Ugh.. I hope that doesn\\'t happen to me. This has been hell I am praying you\\'re right because I can\\'t do another round of this stupid virus Good luck Better because I\\'d have access to anxiety meds! Hello, needed to vent a bit. I was diagnosed with Panic Disorder some years ago & I\\'m currently on Day 10 of having Covid & it\\'s been keeping my anxiety super high,higher than it\\'s ever been. I can\\'t get any sleep, all I can do is stay up Googling every little sound of difference in my body & I\\'ve been checking my oxygen on the at home meter every 15 minutes. I have GERD and costochondritis on top of it and have taken more aspirins than I can count on the onset of symptoms. This is seriously the WORST thing to happen to me to date. I\\'ve been to the ER several times and nothing\\'s been wrong, (so they say) except my EKGs have been abnormal, (which contributes to my anxiety). I just wanna go back to normal or feel like a normal person. This is so awful and inhumane!!! I wish I had some anxiety medications like Valium or Xanax to help me!! I seriously would take that stuff to get better! I\\'m so tired!! I really am. :\\'( This is old but I wonder how the OP is doing now as I\\'m dealing with the exact same thing. Some moments are worse than others. It\\'s also worse when I\\'m laying down. It\\'s so scary. Hey, I hope you\\'re doing better and are cancer free now? I really like the portion about Aspirin but is that safe? Is it safe to take 325mg daily for 90 days & you\\'re stomach won\\'t bleed, etc? Glad you turned out okay, thanks so much Glad you\\'re still alive and doing as best as you can. Hopefully you will find relief from your legs, soon. I\\'m so sorry about the pain you are feeling. I was diagnosed with Tietze Syndrome, (inflammation of the chest wall/breastbone) onn my first few days, I literally felt like my entire skeleton was gonna fall through my chest & can no longer sleep on my bed. Ribs still hurt, depending on how I turn, so can\\'t sleep comfortably on my sides anymore. It really does suck. I\\'m on Day 11 & still have some pain here and there. I wish you a solution, relief & peace. So sorry I\\'ve had Covid since the 8th & came on my cycle about 3/4 days ago..I\\'ve noticed nothing unusual, though it\\'s a pain in the'"
     },
     "execution_count": 10,
     "metadata": {},
     "output_type": "execute_result"
    }
   ],
   "source": [
    "import html\n",
    "html.unescape(text)"
   ],
   "metadata": {
    "collapsed": false,
    "ExecuteTime": {
     "end_time": "2023-12-15T17:17:17.800531600Z",
     "start_time": "2023-12-15T17:17:17.794228500Z"
    }
   },
   "id": "76bfa8b7fb47b530"
  }
 ],
 "metadata": {
  "kernelspec": {
   "display_name": "Python 3",
   "language": "python",
   "name": "python3"
  },
  "language_info": {
   "codemirror_mode": {
    "name": "ipython",
    "version": 2
   },
   "file_extension": ".py",
   "mimetype": "text/x-python",
   "name": "python",
   "nbconvert_exporter": "python",
   "pygments_lexer": "ipython2",
   "version": "2.7.6"
  }
 },
 "nbformat": 4,
 "nbformat_minor": 5
}
