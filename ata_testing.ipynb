{
 "cells": [
  {
   "cell_type": "code",
   "execution_count": 15,
   "id": "initial_id",
   "metadata": {
    "collapsed": true,
    "ExecuteTime": {
     "end_time": "2023-12-23T13:50:16.424462400Z",
     "start_time": "2023-12-23T13:50:16.406553200Z"
    }
   },
   "outputs": [
    {
     "name": "stderr",
     "output_type": "stream",
     "text": [
      "[nltk_data] Downloading package punkt to\n",
      "[nltk_data]     C:\\Users\\atabekis\\AppData\\Roaming\\nltk_data...\n",
      "[nltk_data]   Package punkt is already up-to-date!\n"
     ]
    }
   ],
   "source": [
    "# Core imports\n",
    "import numpy as np\n",
    "import pandas as pd\n",
    "from collections import Counter\n",
    "\n",
    "# Pre-processing imports\n",
    "import nltk\n",
    "\n",
    "\n",
    "nltk.download('punkt')\n",
    "\n",
    "\n",
    "# Model-building imports\n",
    "from sklearn.model_selection import train_test_split\n",
    "from sklearn.linear_model import LogisticRegression\n",
    "from sklearn.naive_bayes import MultinomialNB, ComplementNB\n",
    "from sklearn.metrics import classification_report, f1_score, accuracy_score, precision_score, recall_score, confusion_matrix\n",
    "from sklearn.metrics import roc_curve, auc, roc_auc_score\n",
    "from sklearn.svm import LinearSVC\n",
    "from sklearn.pipeline import Pipeline\n",
    "\n",
    "# BOW\n",
    "from sklearn.feature_extraction.text import TfidfVectorizer\n",
    "from sklearn.feature_extraction.text import CountVectorizer\n",
    "\n",
    "# Word embedding imports\n",
    "import gensim\n",
    "from gensim.models import Word2Vec\n",
    "\n",
    "# Visualize\n",
    "import seaborn as sns\n",
    "from tqdm.notebook import tqdm_notebook"
   ]
  },
  {
   "cell_type": "markdown",
   "source": [
    "Reading the dataset and splitting into train and test"
   ],
   "metadata": {
    "collapsed": false
   },
   "id": "854749ceb1419d26"
  },
  {
   "cell_type": "code",
   "execution_count": null,
   "outputs": [],
   "source": [
    "df = pd.read_csv('data/cleaned_extrovert.csv', engine='pyarrow')"
   ],
   "metadata": {
    "collapsed": false,
    "ExecuteTime": {
     "end_time": "2023-12-23T13:35:45.438840200Z",
     "start_time": "2023-12-23T13:35:45.436000400Z"
    }
   },
   "id": "e73bf1abf262d8d6"
  },
  {
   "cell_type": "markdown",
   "source": [
    "## EDA on the data"
   ],
   "metadata": {
    "collapsed": false
   },
   "id": "f5dec3b796ca29fe"
  },
  {
   "cell_type": "markdown",
   "source": [
    "Class distributions -> imbalanced data\n",
    "We can clearly see that there are more introvert classification compared to extrovert classification\n",
    "-> do some reading on SMOTE"
   ],
   "metadata": {
    "collapsed": false
   },
   "id": "2c8dfdbcd20c0180"
  },
  {
   "cell_type": "code",
   "execution_count": null,
   "outputs": [],
   "source": [
    "label_counts = df['label'].value_counts()\n",
    "sns.barplot(label_counts)"
   ],
   "metadata": {
    "collapsed": false,
    "ExecuteTime": {
     "end_time": "2023-12-23T13:35:45.459251Z",
     "start_time": "2023-12-23T13:35:45.441657200Z"
    }
   },
   "id": "30f454451929e63e"
  },
  {
   "cell_type": "markdown",
   "source": [
    "Check for the number of characters in a user's posts -> number of words wont work because the data we have is split by 1500 space-separated entries\n",
    "We don't see a big difference between the two:\n",
    "introverted: 5575 chars\n",
    "extroverted: 5693 chars"
   ],
   "metadata": {
    "collapsed": false
   },
   "id": "72c0d81f08a99269"
  },
  {
   "cell_type": "code",
   "execution_count": null,
   "outputs": [],
   "source": [
    "df['char_count'] = df['post'].apply(lambda x: len(str(x)))\n",
    "print(df[df['label']==1]['char_count'].mean())\n",
    "print(df[df['label']==0]['char_count'].mean())"
   ],
   "metadata": {
    "collapsed": false,
    "ExecuteTime": {
     "start_time": "2023-12-23T13:35:45.446301900Z"
    }
   },
   "id": "adc065cf451f768"
  },
  {
   "cell_type": "markdown",
   "source": [
    "## Vectorization"
   ],
   "metadata": {
    "collapsed": false
   },
   "id": "4f936ed7e31a603a"
  },
  {
   "cell_type": "code",
   "execution_count": null,
   "outputs": [],
   "source": [
    "x_train, x_test, y_train, y_test = train_test_split(df['post'], df['label'], test_size=0.2, shuffle=True, random_state=5)\n",
    "# Random state = 5 because I want reproducibility in the .npy files"
   ],
   "metadata": {
    "collapsed": false,
    "ExecuteTime": {
     "start_time": "2023-12-23T13:35:45.452437500Z"
    }
   },
   "id": "25163c6634f07a01"
  },
  {
   "cell_type": "markdown",
   "source": [
    "Word2Vec"
   ],
   "metadata": {
    "collapsed": false
   },
   "id": "9dbaed114ad47c26"
  },
  {
   "cell_type": "code",
   "execution_count": null,
   "outputs": [],
   "source": [
    "def tokenize_pbar(data):\n",
    "    tokenized_pbar = tqdm_notebook(data, desc=\"Tokenizing sentences\", unit=\"sentence\")\n",
    "    out = [nltk.word_tokenize(sentence) for sentence in tokenized_pbar]\n",
    "    tokenized_pbar.close()\n",
    "    return out"
   ],
   "metadata": {
    "collapsed": false,
    "ExecuteTime": {
     "start_time": "2023-12-23T13:35:45.457741400Z"
    }
   },
   "id": "7b13e656da68db98"
  },
  {
   "cell_type": "markdown",
   "source": [
    "The cell below takes approximately 7-8 minutes to execute, set run=False to load from saved tokenized arrays -> this is the reason we're using random state = 5 in train test split."
   ],
   "metadata": {
    "collapsed": false
   },
   "id": "420d1a3ce8ccdf43"
  },
  {
   "cell_type": "code",
   "execution_count": null,
   "outputs": [],
   "source": [
    "run = False\n",
    "if run:\n",
    "    x_train_tok = tokenize_pbar(x_train)\n",
    "    x_test_tok = tokenize_pbar(x_test)\n",
    "    \n",
    "    x_train_tok_array = np.asarray(x_train_tok, dtype='object') # Numpy was having issues with converting,\n",
    "    x_test_tok_array = np.asarray(x_test_tok, dtype='object') # Therefore, we force object dtype\n",
    "    \n",
    "    np.save('data/arrays/tokens_train.npy', x_train_tok_array)\n",
    "    np.save('data/arrays/tokens_test.npy', x_test_tok_array)\n",
    "else:\n",
    "    x_train_tok = np.load('data/arrays/tokens_train.npy', allow_pickle=True)\n",
    "    x_test_tok = np.load('data/arrays/tokens_test.npy', allow_pickle=True)"
   ],
   "metadata": {
    "collapsed": false,
    "ExecuteTime": {
     "end_time": "2023-12-23T13:35:45.552027500Z",
     "start_time": "2023-12-23T13:35:45.461473100Z"
    }
   },
   "id": "e33124b3010c240b"
  },
  {
   "cell_type": "markdown",
   "source": [
    "Tf*iDf"
   ],
   "metadata": {
    "collapsed": false
   },
   "id": "3d00091f0d090185"
  },
  {
   "cell_type": "code",
   "execution_count": null,
   "outputs": [],
   "source": [
    "tfidf_vectorizer = TfidfVectorizer(use_idf=True)\n",
    "x_train_vectors_tfidf = tfidf_vectorizer.fit_transform(x_train)\n",
    "x_test_vectors_tfidf = tfidf_vectorizer.transform(x_test)"
   ],
   "metadata": {
    "collapsed": false,
    "ExecuteTime": {
     "start_time": "2023-12-23T13:35:45.463639500Z"
    }
   },
   "id": "5c704108db13b7ec"
  },
  {
   "cell_type": "markdown",
   "source": [
    "Word2Vec model"
   ],
   "metadata": {
    "collapsed": false
   },
   "id": "a67a7c89267bf82c"
  },
  {
   "cell_type": "code",
   "execution_count": null,
   "outputs": [],
   "source": [
    "class MeanEmbeddingVectorizer:\n",
    "    def __init__(self, word2vec):\n",
    "        self.word2vec = word2vec\n",
    "        self.dim = len(next(iter(word2vec.values())))\n",
    "        \n",
    "    def fit(self, X, y):\n",
    "        return self\n",
    "    \n",
    "    def transform(self, X):\n",
    "        \n",
    "        transform_pbar = tqdm_notebook(X, desc=\"Transforming into vectors\", unit=\"token\")\n",
    "        return np.array([\n",
    "            np.mean([self.word2vec[w] for w in words if w in self.word2vec] or [np.zeros(self.dim)], axis=0)\n",
    "            for words in transform_pbar\n",
    "        ])\n"
   ],
   "metadata": {
    "collapsed": false,
    "ExecuteTime": {
     "start_time": "2023-12-23T13:35:45.468703Z"
    }
   },
   "id": "3de141e1ca81e752"
  },
  {
   "cell_type": "code",
   "execution_count": null,
   "outputs": [],
   "source": [
    "df['tokens'] = tokenize_pbar(df['post'])\n",
    "df.head()"
   ],
   "metadata": {
    "collapsed": false,
    "ExecuteTime": {
     "start_time": "2023-12-23T13:35:45.474049500Z"
    }
   },
   "id": "55d91e0f3ff402d9"
  },
  {
   "cell_type": "markdown",
   "source": [
    "running the code below takes a long time\n",
    "TODO: model.save()"
   ],
   "metadata": {
    "collapsed": false
   },
   "id": "186e10edf7b64a67"
  },
  {
   "cell_type": "code",
   "execution_count": null,
   "outputs": [],
   "source": [
    "model = Word2Vec(df['tokens'], min_count=1) \n",
    "w2v = dict(zip(model.wv.index_to_key, model.wv.vectors))"
   ],
   "metadata": {
    "collapsed": false,
    "ExecuteTime": {
     "start_time": "2023-12-23T13:35:45.477419200Z"
    }
   },
   "id": "26fe19dbdbdd2b53"
  },
  {
   "cell_type": "code",
   "execution_count": null,
   "outputs": [],
   "source": [
    "model_w = MeanEmbeddingVectorizer(w2v)\n",
    "x_train_vectors_w2v = model_w.transform(x_train_tok)\n",
    "x_test_vectors_w2v = model_w.transform(x_test_tok)"
   ],
   "metadata": {
    "collapsed": false,
    "ExecuteTime": {
     "start_time": "2023-12-23T13:35:45.480928400Z"
    }
   },
   "id": "a4deda5ccef67307"
  },
  {
   "cell_type": "markdown",
   "source": [
    "# We're ready to do some ML :)"
   ],
   "metadata": {
    "collapsed": false
   },
   "id": "5fa92da9a364d2d5"
  },
  {
   "cell_type": "markdown",
   "source": [
    "### Logistic Regression -- tf*idf"
   ],
   "metadata": {
    "collapsed": false
   },
   "id": "1debe5e633a180b5"
  },
  {
   "cell_type": "code",
   "execution_count": null,
   "outputs": [],
   "source": [
    "lr_tfidf = LogisticRegression(solver='liblinear', C=10, penalty='l2')\n",
    "lr_tfidf.fit(x_train_vectors_tfidf, y_train)"
   ],
   "metadata": {
    "collapsed": false,
    "ExecuteTime": {
     "start_time": "2023-12-23T13:35:45.484447500Z"
    }
   },
   "id": "c047af41b1caf980"
  },
  {
   "cell_type": "code",
   "execution_count": null,
   "outputs": [],
   "source": [
    "y_predict = lr_tfidf.predict(x_test_vectors_tfidf)\n",
    "y_prob = lr_tfidf.predict_proba(x_test_vectors_tfidf)[:,1]"
   ],
   "metadata": {
    "collapsed": false,
    "ExecuteTime": {
     "start_time": "2023-12-23T13:35:45.486063800Z"
    }
   },
   "id": "92d1fc4f1367e032"
  },
  {
   "cell_type": "code",
   "execution_count": null,
   "outputs": [],
   "source": [
    "print(classification_report(y_test, y_predict))"
   ],
   "metadata": {
    "collapsed": false,
    "ExecuteTime": {
     "start_time": "2023-12-23T13:35:45.489286600Z"
    }
   },
   "id": "b3be10bc5d7e2c47"
  },
  {
   "cell_type": "code",
   "execution_count": null,
   "outputs": [],
   "source": [
    "confusion_matrix(y_test, y_predict)"
   ],
   "metadata": {
    "collapsed": false,
    "ExecuteTime": {
     "start_time": "2023-12-23T13:35:45.494510600Z"
    }
   },
   "id": "df307980ce34661c"
  },
  {
   "cell_type": "code",
   "execution_count": null,
   "outputs": [],
   "source": [
    "fpr, tpr, thresholds = roc_curve(y_test, y_prob)\n",
    "roc_auc = auc(fpr, tpr)\n",
    "print('AUC:', roc_auc)"
   ],
   "metadata": {
    "collapsed": false,
    "ExecuteTime": {
     "start_time": "2023-12-23T13:35:45.494510600Z"
    }
   },
   "id": "936ef73f1ab56f6a"
  },
  {
   "cell_type": "markdown",
   "source": [
    "### Logistic Regression -- Word2Vec"
   ],
   "metadata": {
    "collapsed": false
   },
   "id": "43db0ef5ae11dfcf"
  },
  {
   "cell_type": "code",
   "execution_count": null,
   "outputs": [],
   "source": [
    "lr_w2v = LogisticRegression(solver='liblinear', C=10, penalty='l2')\n",
    "lr_w2v.fit(x_train_vectors_w2v, y_train)"
   ],
   "metadata": {
    "collapsed": false,
    "ExecuteTime": {
     "start_time": "2023-12-23T13:35:45.497991500Z"
    }
   },
   "id": "d9e34b37ccac8985"
  },
  {
   "cell_type": "code",
   "execution_count": null,
   "outputs": [],
   "source": [
    "y_predict = lr_w2v.predict(x_test_vectors_w2v)\n",
    "y_prob = lr_w2v.predict_proba(x_test_vectors_w2v)[:,1]"
   ],
   "metadata": {
    "collapsed": false,
    "ExecuteTime": {
     "start_time": "2023-12-23T13:35:45.500634500Z"
    }
   },
   "id": "a1f964766ed6c31d"
  },
  {
   "cell_type": "code",
   "execution_count": null,
   "outputs": [],
   "source": [
    "print(classification_report(y_test,y_predict))\n",
    "print('Confusion Matrix: \\n',confusion_matrix(y_test, y_predict))"
   ],
   "metadata": {
    "collapsed": false,
    "ExecuteTime": {
     "start_time": "2023-12-23T13:35:45.503455500Z"
    }
   },
   "id": "431b0622394749e"
  },
  {
   "cell_type": "code",
   "execution_count": null,
   "outputs": [],
   "source": [
    "fpr, tpr, thresholds = roc_curve(y_test, y_prob)\n",
    "roc_auc = auc(fpr, tpr)\n",
    "print('AUC:', roc_auc)"
   ],
   "metadata": {
    "collapsed": false,
    "ExecuteTime": {
     "start_time": "2023-12-23T13:35:45.504989Z"
    }
   },
   "id": "3ac23057c0768213"
  },
  {
   "cell_type": "markdown",
   "source": [
    "# Findings\n",
    "1. Since we have a very imbalanced dataset, we're obtaining high AUC scores\n",
    "    i. we can use the other metrics to explore the true power of the models \n",
    "2. We can intrude a method called Synthetic Minority Over-Sampling Technique or SMOTE for short\n",
    "3. Use cross-validation !!\n"
   ],
   "metadata": {
    "collapsed": false
   },
   "id": "6cf3003be6727d26"
  },
  {
   "cell_type": "code",
   "execution_count": null,
   "outputs": [],
   "source": [
    "df = pd.read_csv('data/extrovert_introvert.csv', engine='pyarrow')\n",
    "df.head()"
   ],
   "metadata": {
    "collapsed": false,
    "ExecuteTime": {
     "start_time": "2023-12-23T13:35:45.504989Z"
    }
   },
   "id": "7432a21d40b0f880"
  },
  {
   "cell_type": "code",
   "execution_count": null,
   "outputs": [],
   "source": [
    "X_train, X_test, y_train, y_test = train_test_split(df['post'], df['extrovert'], test_size=0.2, random_state=5)"
   ],
   "metadata": {
    "collapsed": false,
    "ExecuteTime": {
     "start_time": "2023-12-23T13:35:45.504989Z"
    }
   },
   "id": "60135786a23c48a5"
  },
  {
   "cell_type": "code",
   "execution_count": null,
   "outputs": [],
   "source": [
    "from sklearn.pipeline import Pipeline\n",
    "\n",
    "pipelineMNB = Pipeline([\n",
    "    ('tfidf', TfidfVectorizer()),\n",
    "    ('clf', MultinomialNB())\n",
    "])\n",
    "pipelineCNB = Pipeline([\n",
    "    ('tfidf', TfidfVectorizer()),\n",
    "    ('clf', ComplementNB())\n",
    "])\n",
    "pipelineSVC = Pipeline([\n",
    "    ('tfidf', TfidfVectorizer()),\n",
    "    ('clf', LinearSVC())\n",
    "])"
   ],
   "metadata": {
    "collapsed": false,
    "ExecuteTime": {
     "start_time": "2023-12-23T13:35:45.504989Z"
    }
   },
   "id": "6429fb586fa56241"
  },
  {
   "cell_type": "code",
   "execution_count": null,
   "outputs": [],
   "source": [
    "pipelineMNB.fit(X_train, y_train)\n",
    "pred_MNB = pipelineMNB.predict(X_test)"
   ],
   "metadata": {
    "collapsed": false,
    "ExecuteTime": {
     "start_time": "2023-12-23T13:35:45.511693100Z"
    }
   },
   "id": "17da15edb35965d2"
  },
  {
   "cell_type": "code",
   "execution_count": null,
   "outputs": [],
   "source": [
    "print(classification_report(y_test, pred_MNB))"
   ],
   "metadata": {
    "collapsed": false,
    "ExecuteTime": {
     "start_time": "2023-12-23T13:35:45.514003900Z"
    }
   },
   "id": "62fdcb92bae84f1b"
  },
  {
   "cell_type": "markdown",
   "source": [
    "Complement Naive Bayes apparently works best with imbalanced data."
   ],
   "metadata": {
    "collapsed": false
   },
   "id": "38ea8cee88c5bfd5"
  },
  {
   "cell_type": "code",
   "execution_count": null,
   "outputs": [],
   "source": [
    "pipelineCNB.fit(X_train, y_train)\n",
    "pred_CNB = pipelineCNB.predict(X_test)"
   ],
   "metadata": {
    "collapsed": false,
    "ExecuteTime": {
     "start_time": "2023-12-23T13:35:45.515223300Z"
    }
   },
   "id": "bc5666ad79ec25b"
  },
  {
   "cell_type": "code",
   "execution_count": null,
   "outputs": [],
   "source": [
    "print(classification_report(y_test, pred_CNB))"
   ],
   "metadata": {
    "collapsed": false,
    "ExecuteTime": {
     "start_time": "2023-12-23T13:35:45.517744500Z"
    }
   },
   "id": "66684b57c39ae79c"
  },
  {
   "cell_type": "markdown",
   "source": [
    "# Some oversampling techniques"
   ],
   "metadata": {
    "collapsed": false
   },
   "id": "86598e9552394bd2"
  },
  {
   "cell_type": "markdown",
   "source": [
    "### Synthetic Minority Oversampling Technique (SMOTE)"
   ],
   "metadata": {
    "collapsed": false
   },
   "id": "20f967d25c82c5f3"
  },
  {
   "cell_type": "code",
   "execution_count": null,
   "outputs": [],
   "source": [
    "!pip install imbalanced-learn"
   ],
   "metadata": {
    "collapsed": false,
    "ExecuteTime": {
     "start_time": "2023-12-23T13:35:45.520073700Z"
    }
   },
   "id": "879dbb6bff7b980e"
  },
  {
   "cell_type": "code",
   "execution_count": 18,
   "outputs": [
    {
     "data": {
      "text/plain": "     author_id                                               post  label\n0  t2_2hrxxs28  question, doctor, how'd get painkillers? otc p...      0\n1  t2_2hrxxs28  butt covid + cycle. i'm sure what's going i've...      0\n2  t2_2hrxxs28  different doctors. situation sucks relate peop...      0\n3   t2_4pxpgwz  thought pebbleyeet guy autistic guy wants “fix...      0\n4   t2_4pxpgwz  …i always end voting wrong even crewmate. hour...      0",
      "text/html": "<div>\n<style scoped>\n    .dataframe tbody tr th:only-of-type {\n        vertical-align: middle;\n    }\n\n    .dataframe tbody tr th {\n        vertical-align: top;\n    }\n\n    .dataframe thead th {\n        text-align: right;\n    }\n</style>\n<table border=\"1\" class=\"dataframe\">\n  <thead>\n    <tr style=\"text-align: right;\">\n      <th></th>\n      <th>author_id</th>\n      <th>post</th>\n      <th>label</th>\n    </tr>\n  </thead>\n  <tbody>\n    <tr>\n      <th>0</th>\n      <td>t2_2hrxxs28</td>\n      <td>question, doctor, how'd get painkillers? otc p...</td>\n      <td>0</td>\n    </tr>\n    <tr>\n      <th>1</th>\n      <td>t2_2hrxxs28</td>\n      <td>butt covid + cycle. i'm sure what's going i've...</td>\n      <td>0</td>\n    </tr>\n    <tr>\n      <th>2</th>\n      <td>t2_2hrxxs28</td>\n      <td>different doctors. situation sucks relate peop...</td>\n      <td>0</td>\n    </tr>\n    <tr>\n      <th>3</th>\n      <td>t2_4pxpgwz</td>\n      <td>thought pebbleyeet guy autistic guy wants “fix...</td>\n      <td>0</td>\n    </tr>\n    <tr>\n      <th>4</th>\n      <td>t2_4pxpgwz</td>\n      <td>…i always end voting wrong even crewmate. hour...</td>\n      <td>0</td>\n    </tr>\n  </tbody>\n</table>\n</div>"
     },
     "execution_count": 18,
     "metadata": {},
     "output_type": "execute_result"
    }
   ],
   "source": [
    "from imblearn.over_sampling import SMOTE\n",
    "from imblearn.pipeline import Pipeline as PipelineSmote\n",
    "df = pd.read_csv('data/cleaned_extrovert.csv', engine='pyarrow')\n",
    "df.head()"
   ],
   "metadata": {
    "collapsed": false,
    "ExecuteTime": {
     "end_time": "2023-12-23T13:53:31.552697800Z",
     "start_time": "2023-12-23T13:53:30.698197200Z"
    }
   },
   "id": "87870d90ff9c6a6b"
  },
  {
   "cell_type": "code",
   "execution_count": 13,
   "outputs": [],
   "source": [
    "X_train, X_test, y_train, y_test = train_test_split(df['post'], df['label'], test_size=0.2, random_state=5)\n"
   ],
   "metadata": {
    "collapsed": false,
    "ExecuteTime": {
     "end_time": "2023-12-23T13:48:07.360870600Z",
     "start_time": "2023-12-23T13:48:07.318437Z"
    }
   },
   "id": "2ac0c6d02e6a368d"
  },
  {
   "cell_type": "code",
   "execution_count": null,
   "outputs": [],
   "source": [
    "pipeline_smote = PipelineSmote([\n",
    "    ('tfidf', TfidfVectorizer()),\n",
    "    ('smote', SMOTE(random_state=5)),\n",
    "    ('classifier', ComplementNB())\n",
    "])\n",
    "\n",
    "pipeline_smote.fit(X_train, y_train)\n"
   ],
   "metadata": {
    "collapsed": false,
    "is_executing": true,
    "ExecuteTime": {
     "start_time": "2023-12-23T13:53:36.368209800Z"
    }
   },
   "id": "c3dfec4ff15b6d09"
  },
  {
   "cell_type": "code",
   "execution_count": null,
   "outputs": [],
   "source": [
    "y_pred = pipeline_smote.predict(X_test)\n",
    "print(classification_report(y_test, y_pred))\n"
   ],
   "metadata": {
    "collapsed": false
   },
   "id": "f4bc711934c035b5"
  }
 ],
 "metadata": {
  "kernelspec": {
   "display_name": "Python 3",
   "language": "python",
   "name": "python3"
  },
  "language_info": {
   "codemirror_mode": {
    "name": "ipython",
    "version": 2
   },
   "file_extension": ".py",
   "mimetype": "text/x-python",
   "name": "python",
   "nbconvert_exporter": "python",
   "pygments_lexer": "ipython2",
   "version": "2.7.6"
  }
 },
 "nbformat": 4,
 "nbformat_minor": 5
}
